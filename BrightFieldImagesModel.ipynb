{
 "cells": [
  {
   "cell_type": "code",
   "execution_count": 1,
   "id": "b8891448",
   "metadata": {},
   "outputs": [],
   "source": [
    "import torch\n",
    "from torch.utils.data import DataLoader\n",
    "from torchvision import datasets , transforms , models\n",
    "from torchvision.utils import make_grid\n",
    "import os\n",
    "import numpy as np\n",
    "import pandas as pd\n",
    "import matplotlib.pyplot as plt\n",
    "\n",
    "from PIL import Image\n",
    "from IPython.display import display\n",
    "import warnings\n",
    "warnings.filterwarnings('ignore')\n",
    "import albumentations as A\n",
    "import cv2\n",
    "import torch.nn as nn"
   ]
  },
  {
   "cell_type": "code",
   "execution_count": null,
   "id": "48f5bd0a",
   "metadata": {},
   "outputs": [],
   "source": [
    "if not torch.backends.mps.is_available():\n",
    "    if not torch.backends.mps.is_built():\n",
    "        print(\"MPS not available because the current PyTorch install was not \"\n",
    "              \"built with MPS enabled.\")\n",
    "    else:\n",
    "        print(\"MPS not available because the current MacOS version is not 12.3+ \"\n",
    "              \"and/or you do not have an MPS-enabled device on this machine.\")\n",
    "\n",
    "else:\n",
    "    mps_device = torch.device(\"mps\")\n",
    "\n",
    "    # Create a Tensor directly on the mps device\n",
    "    #x = torch.ones(5, device=mps_device)\n",
    "    # Or\n",
    "    #x = torch.ones(5, device=\"mps\")\n",
    "\n",
    "    # Any operation happens on the GPU\n",
    "    #y = x * 2\n",
    "\n",
    "    # Move your model to mps just like any other device\n",
    "    #model = YourFavoriteNet()\n",
    "    #model.to(mps_device)\n",
    "\n",
    "    # Now every call runs on the GPU\n",
    "    #pred = model(x)"
   ]
  },
  {
   "cell_type": "code",
   "execution_count": null,
   "id": "c8c9a351",
   "metadata": {},
   "outputs": [],
   "source": [
    "pip install torch torchvision torchaudio"
   ]
  },
  {
   "cell_type": "code",
   "execution_count": null,
   "id": "4ce1d224",
   "metadata": {},
   "outputs": [],
   "source": [
    "train_transform = transforms.Compose([\n",
    "    #transforms.Grayscale(num_output_channels=1),\n",
    "    transforms.Resize((224,224)),\n",
    "    transforms.ToTensor(),\n",
    "    transforms.Normalize([0.485, 0.456, 0.406],[0.229, 0.224, 0.225])\n",
    "])"
   ]
  },
  {
   "cell_type": "code",
   "execution_count": null,
   "id": "75c6c330",
   "metadata": {},
   "outputs": [],
   "source": [
    "test_transform = transforms.Compose([\n",
    "    #transforms.Grayscale(num_output_channels=1),\n",
    "    transforms.Resize((224,224)),\n",
    "    transforms.ToTensor(),\n",
    "    transforms.Normalize([0.485, 0.456, 0.406],[0.229, 0.224, 0.225])\n",
    "])"
   ]
  },
  {
   "cell_type": "code",
   "execution_count": null,
   "id": "07ee5479",
   "metadata": {},
   "outputs": [],
   "source": [
    "root = '/Users/gmkhan/Documents/06 DCS/Sem3/Computer Vision/Subject Project/CVProject1'\n",
    "batch_size = 10\n",
    "train_dataset = datasets.ImageFolder(os.path.join(root,'Train'),transform=train_transform)\n",
    "train_loader = torch.utils.data.DataLoader(train_dataset, batch_size=batch_size, shuffle=True, num_workers=2)\n",
    "\n",
    "class_names = train_dataset.classes\n",
    "print(class_names)"
   ]
  },
  {
   "cell_type": "code",
   "execution_count": null,
   "id": "3f2ee240",
   "metadata": {},
   "outputs": [],
   "source": [
    "label_mapping = {'Defect': 1,'NoDefect': 0}"
   ]
  },
  {
   "cell_type": "code",
   "execution_count": null,
   "id": "5d307b9d",
   "metadata": {},
   "outputs": [],
   "source": [
    "labels = [label_mapping[label] for  label in labels]"
   ]
  },
  {
   "cell_type": "code",
   "execution_count": null,
   "id": "c9203401",
   "metadata": {},
   "outputs": [],
   "source": [
    "import torch\n",
    "import torchvision\n",
    "import torchvision.transforms as transforms\n",
    "\n",
    "root = '/Users/gmkhan/Documents/06 DCS/Sem3/Computer Vision/Subject Project/CVProject1'\n",
    "\n",
    "# Set device\n",
    "device = torch.device(\"cuda\" if torch.cuda.is_available() else \"cpu\")\n",
    "\n",
    "# Set hyperparameters\n",
    "num_epochs = 20\n",
    "batch_size = 10\n",
    "learning_rate = 0.001\n",
    "\n",
    "\n",
    "train_dataset = datasets.ImageFolder(os.path.join(root,'Train'),transform=train_transform)\n",
    "train_loader = torch.utils.data.DataLoader(train_dataset, batch_size=batch_size, shuffle=True, num_workers=2)\n",
    "\n",
    "# Load the ResNet50 model\n",
    "model = torchvision.models.resnet50(pretrained=True)\n",
    "\n",
    "# Parallelize training across multiple GPUs\n",
    "model = torch.nn.DataParallel(model)\n",
    "\n",
    "# Set the model to run on the device\n",
    "model = model.to(device)\n",
    "\n",
    "# Define the loss function and optimizer\n",
    "criterion = torch.nn.CrossEntropyLoss()\n",
    "optimizer = torch.optim.Adam(model.parameters(), lr=learning_rate)\n",
    "counter = 0\n",
    "\n",
    "# Train the model...\n",
    "for epoch in range(num_epochs):\n",
    "    for inputs, labels in train_loader:\n",
    "        # Move input and label tensors to the device\n",
    "        inputs = inputs.to(device)\n",
    "        labels = labels.to(device)\n",
    "        counter = counter + 1\n",
    "\n",
    "        # Zero out the optimizer\n",
    "        optimizer.zero_grad()\n",
    "\n",
    "        # Forward pass\n",
    "        outputs = model(inputs)\n",
    "        loss = criterion(outputs, labels)\n",
    "\n",
    "        # Backward pass\n",
    "        loss.backward()\n",
    "        optimizer.step()\n",
    "        \n",
    "        if (counter % 100 ==0):\n",
    "            print(\"Images processed:\",counter)\n",
    "            \n",
    "\n",
    "    # Print the loss for every epoch\n",
    "    print(f'Epoch {epoch+1}/{num_epochs}, Loss: {loss.item():.4f}')\n",
    "\n",
    "print(f'Finished Training, Loss: {loss.item():.4f}')"
   ]
  },
  {
   "cell_type": "code",
   "execution_count": null,
   "id": "5bd74c74",
   "metadata": {},
   "outputs": [],
   "source": [
    "torch.save(model.state_dict(), '/Users/gmkhan/Documents/06 DCS/Sem3/Computer Vision/Subject Project/BrightField.pth')\n"
   ]
  },
  {
   "cell_type": "code",
   "execution_count": null,
   "id": "bf3676e2",
   "metadata": {},
   "outputs": [],
   "source": [
    "test_dataset = datasets.ImageFolder(os.path.join(root,'Test'),transform=test_transform)\n",
    "test_loader = torch.utils.data.DataLoader(test_dataset, batch_size=batch_size, shuffle=True, num_workers=2)"
   ]
  },
  {
   "cell_type": "code",
   "execution_count": null,
   "id": "d039dd47",
   "metadata": {},
   "outputs": [],
   "source": [
    "model1 = model\n",
    "model1.eval()"
   ]
  },
  {
   "cell_type": "code",
   "execution_count": null,
   "id": "ccf719ea",
   "metadata": {},
   "outputs": [],
   "source": [
    "predicted_labels = []\n",
    "true_labels = []\n",
    "\n",
    "with torch.no_grad():  # Disable gradient computation for evaluation\n",
    "    for inputs, labels in test_loader:\n",
    "        outputs = model1(inputs)\n",
    "        _, predicted = torch.max(outputs, 1)  # Assuming it's a classification task\n",
    "        \n",
    "        predicted_labels.extend(predicted.cpu().numpy())\n",
    "        true_labels.extend(labels.cpu().numpy())\n",
    "\n",
    "predicted_labels = np.array(predicted_labels)\n",
    "true_labels = np.array(true_labels)\n",
    "    \n",
    "    "
   ]
  },
  {
   "cell_type": "code",
   "execution_count": null,
   "id": "5d06ca89",
   "metadata": {},
   "outputs": [],
   "source": [
    "accuracy = (predicted_labels == true_labels).mean()\n",
    "print(f'Accuracy: {accuracy * 100:.2f}%')"
   ]
  },
  {
   "cell_type": "code",
   "execution_count": null,
   "id": "6f0cef3b",
   "metadata": {},
   "outputs": [],
   "source": [
    "predicted_labels[3]"
   ]
  },
  {
   "cell_type": "code",
   "execution_count": null,
   "id": "197e88fb",
   "metadata": {},
   "outputs": [],
   "source": [
    "true_labels[3]"
   ]
  },
  {
   "cell_type": "code",
   "execution_count": null,
   "id": "0a35aab5",
   "metadata": {},
   "outputs": [],
   "source": [
    "for images, labels in train_loader:\n",
    "        # Move input and label tensors to the device\n",
    "        #print(inputs)\n",
    "        print(labels)\n",
    "        break\n",
    "        \n",
    "        \n",
    "im = make_grid(images,nrow=10)\n",
    "\n",
    "inv_normalize = transforms.Normalize(\n",
    "    mean=[-0.485/0.229 , -0.456/0.224, -0.406/0.225],\n",
    "    std=[1/0.229, 1/0.224, 1/0.225]\n",
    ")\n",
    "im_inv = inv_normalize(im)\n",
    "plt.figure(figsize=(12,4))\n",
    "plt.imshow(np.transpose(im_inv.numpy(),(1,2,0)))"
   ]
  },
  {
   "cell_type": "code",
   "execution_count": null,
   "id": "be6f3ce8",
   "metadata": {},
   "outputs": [],
   "source": [
    "class_names = train_dataset.classes\n",
    "print(class_names)"
   ]
  },
  {
   "cell_type": "markdown",
   "id": "51ac89bf",
   "metadata": {},
   "source": [
    "## Rerun with different set up "
   ]
  },
  {
   "cell_type": "code",
   "execution_count": 2,
   "id": "16493644",
   "metadata": {},
   "outputs": [],
   "source": [
    "train_transform = transforms.Compose([\n",
    "    transforms.RandomRotation(10),\n",
    "    transforms.Resize((224,224)),\n",
    "    transforms.ToTensor(),\n",
    "    transforms.Normalize([0.485, 0.456, 0.406],[0.229, 0.224, 0.225])\n",
    "])"
   ]
  },
  {
   "cell_type": "code",
   "execution_count": 3,
   "id": "9dedfa10",
   "metadata": {},
   "outputs": [],
   "source": [
    "test_transform = transforms.Compose([\n",
    "    transforms.Resize((224,224)),\n",
    "    transforms.ToTensor(),\n",
    "    transforms.Normalize([0.485, 0.456, 0.406],[0.229, 0.224, 0.225])\n",
    "])"
   ]
  },
  {
   "cell_type": "code",
   "execution_count": 4,
   "id": "24f17047",
   "metadata": {},
   "outputs": [
    {
     "name": "stdout",
     "output_type": "stream",
     "text": [
      "['Defect', 'NoDefect']\n",
      "Training images available: 471\n",
      "Testing images available:  40\n"
     ]
    }
   ],
   "source": [
    "#mps_device = torch.device(\"mps\")\n",
    "root = '/Users/gmkhan/Documents/06 DCS/Sem3/Computer Vision/Subject Project/CVProject1'\n",
    "train_data = datasets.ImageFolder(os.path.join(root,'Train'),transform=train_transform)\n",
    "test_data = datasets.ImageFolder(os.path.join(root,'Test'),transform=test_transform)\n",
    "\n",
    "torch.manual_seed(42)\n",
    "batch_size = 10\n",
    "train_loader = torch.utils.data.DataLoader(train_data, batch_size=batch_size, shuffle=True, num_workers=2,pin_memory=True,drop_last=True)\n",
    "test_loader = torch.utils.data.DataLoader(test_data, batch_size=batch_size, shuffle=True, num_workers=2,pin_memory=True)\n",
    "\n",
    "class_names = train_data.classes\n",
    "\n",
    "print(class_names)\n",
    "print(f'Training images available: {len(train_data)}')\n",
    "print(f'Testing images available:  {len(test_data)}')"
   ]
  },
  {
   "cell_type": "code",
   "execution_count": null,
   "id": "c4adeb39",
   "metadata": {},
   "outputs": [],
   "source": [
    "# Grab the first batch of 10 images\n",
    "for images,labels in train_loader: \n",
    "    break\n",
    "\n",
    "# Print the labels\n",
    "print('Label:', labels.numpy())\n",
    "print('Class:', *np.array([class_names[i] for i in labels]))\n",
    "\n",
    "im = make_grid(images, nrow=10)  # the default nrow is 8\n",
    "\n",
    "# Inverse normalize the images\n",
    "inv_normalize = transforms.Normalize(\n",
    "    mean=[-0.485/0.229, -0.456/0.224, -0.406/0.225],\n",
    "    std=[1/0.229, 1/0.224, 1/0.225]\n",
    ")\n",
    "im_inv = inv_normalize(im)\n",
    "\n",
    "# Print the images\n",
    "plt.figure(figsize=(12,4))\n",
    "plt.imshow(np.transpose(im_inv.numpy(), (1, 2, 0)));"
   ]
  },
  {
   "cell_type": "code",
   "execution_count": null,
   "id": "7fce68ac",
   "metadata": {},
   "outputs": [],
   "source": [
    "# Load the ResNet50 model\n",
    "resnet18 = models.resnet18(pretrained=True)"
   ]
  },
  {
   "cell_type": "code",
   "execution_count": null,
   "id": "a99aae73",
   "metadata": {},
   "outputs": [],
   "source": [
    "resnet18"
   ]
  },
  {
   "cell_type": "code",
   "execution_count": null,
   "id": "87884863",
   "metadata": {},
   "outputs": [],
   "source": [
    "for param in resnet18.parameters():\n",
    "    param.requires_grad = False"
   ]
  },
  {
   "cell_type": "code",
   "execution_count": null,
   "id": "55d99511",
   "metadata": {},
   "outputs": [],
   "source": [
    "torch.manual_seed(42)\n",
    "resnet18.fc = nn.Sequential(nn.Linear(512, 256),\n",
    "                                 nn.ReLU(),\n",
    "                                 nn.Dropout(0.4),\n",
    "                                 nn.Linear(256, 2),\n",
    "                                 nn.LogSoftmax(dim=1))\n",
    "resnet18"
   ]
  },
  {
   "cell_type": "code",
   "execution_count": null,
   "id": "354fa28c",
   "metadata": {},
   "outputs": [],
   "source": [
    "def count_parameters(model):\n",
    "    params = [p.numel() for p in model.parameters() if p.requires_grad]\n",
    "    for item in params:\n",
    "        print(f'{item:>8}')\n",
    "    print(f'________\\n{sum(params):>8}')"
   ]
  },
  {
   "cell_type": "code",
   "execution_count": null,
   "id": "03c97bd9",
   "metadata": {},
   "outputs": [],
   "source": [
    "count_parameters(resnet18)"
   ]
  },
  {
   "cell_type": "code",
   "execution_count": null,
   "id": "3a6c0be8",
   "metadata": {},
   "outputs": [],
   "source": [
    "criterion = nn.CrossEntropyLoss()\n",
    "optimizer = torch.optim.Adam(resnet18.fc.parameters(), lr=0.001)"
   ]
  },
  {
   "cell_type": "code",
   "execution_count": null,
   "id": "714f1a8a",
   "metadata": {},
   "outputs": [],
   "source": [
    "if not torch.backends.mps.is_available():\n",
    "    if not torch.backends.mps.is_built():\n",
    "        print(\"MPS not available because the current PyTorch install was not \"\n",
    "              \"built with MPS enabled.\")\n",
    "    else:\n",
    "        print(\"MPS not available because the current MacOS version is not 12.3+ \"\n",
    "              \"and/or you do not have an MPS-enabled device on this machine.\")\n",
    "\n",
    "else:\n",
    "    mps_device = torch.device(\"mps\")"
   ]
  },
  {
   "cell_type": "code",
   "execution_count": null,
   "id": "0843493b",
   "metadata": {},
   "outputs": [],
   "source": [
    " \n",
    "import time\n",
    "start_time = time.time()\n",
    "\n",
    "epochs = 20\n",
    "\n",
    "max_trn_batch = 1000\n",
    "max_tst_batch = 300\n",
    "\n",
    "train_losses = []\n",
    "test_losses = []\n",
    "train_correct = []\n",
    "test_correct = []\n",
    "resnet18 = resnet18.to(mps_device)\n",
    "\n",
    "for i in range(epochs):\n",
    "    trn_corr = 0\n",
    "    tst_corr = 0\n",
    "    \n",
    "    # Run the training batches\n",
    "    for b, (X_train, y_train) in enumerate(train_loader):\n",
    "        if b == max_trn_batch:\n",
    "            break\n",
    "        b+=1\n",
    "        print(\"batch:\",b)\n",
    "        # Apply the model\n",
    "        X_train=X_train.to(mps_device)\n",
    "        y_train = y_train.to(mps_device)\n",
    "        \n",
    "        y_pred = resnet18(X_train)\n",
    "        loss = criterion(y_pred, y_train)\n",
    " \n",
    "        # Tally the number of correct predictions\n",
    "        predicted = torch.max(y_pred.data, 1)[1]\n",
    "        batch_corr = (predicted == y_train).sum()\n",
    "        trn_corr += batch_corr\n",
    "        \n",
    "        # Update parameters\n",
    "        optimizer.zero_grad()\n",
    "        loss.backward()\n",
    "        optimizer.step()\n",
    "\n",
    "        # Print interim results\n",
    "        if b%47 == 0:\n",
    "            print(f'epoch: {i:2}  batch: {b:4} [{10*b:6}/500]  loss: {loss.item():10.8f}  \\\n",
    "            accuracy: {trn_corr.item()*100/(10*b):7.3f}%')\n",
    "\n",
    "    train_losses.append(loss)\n",
    "    train_correct.append(trn_corr)\n",
    "\n",
    "    # Run the testing batches\n",
    "    with torch.no_grad():\n",
    "        for b, (X_test, y_test) in enumerate(test_loader):\n",
    "            if b == max_tst_batch:\n",
    "                break\n",
    "            X_test=X_test.to(mps_device)\n",
    "            y_test = y_test.to(mps_device)\n",
    "\n",
    "            # Apply the model\n",
    "            y_val = resnet18(X_test)\n",
    "\n",
    "            # Tally the number of correct predictions\n",
    "            predicted = torch.max(y_val.data, 1)[1] \n",
    "            tst_corr += (predicted == y_test).sum()\n",
    "\n",
    "    loss = criterion(y_val, y_test)\n",
    "    test_losses.append(loss)\n",
    "    test_correct.append(tst_corr)\n",
    "\n",
    "print(f'\\nDuration: {time.time() - start_time:.0f} seconds') # print the time elapsed"
   ]
  },
  {
   "cell_type": "code",
   "execution_count": null,
   "id": "31de370e",
   "metadata": {},
   "outputs": [],
   "source": [
    "print(test_correct)\n",
    "print(f'Test accuracy: {test_correct[-1].item()*100/300:.3f}%')"
   ]
  },
  {
   "cell_type": "code",
   "execution_count": null,
   "id": "af1b7886",
   "metadata": {},
   "outputs": [],
   "source": [
    "torch.save(resnet18.state_dict(), '/Users/gmkhan/Documents/06 DCS/Sem3/Computer Vision/Subject Project/BrightField18.pth')"
   ]
  },
  {
   "cell_type": "code",
   "execution_count": null,
   "id": "b36a1698",
   "metadata": {},
   "outputs": [],
   "source": [
    "train_losses\n"
   ]
  },
  {
   "cell_type": "code",
   "execution_count": null,
   "id": "a08135cc",
   "metadata": {},
   "outputs": [],
   "source": [
    "cpu_train_losses = [tensor.cpu()  for tensor in train_losses  ]"
   ]
  },
  {
   "cell_type": "code",
   "execution_count": null,
   "id": "6ef41400",
   "metadata": {},
   "outputs": [],
   "source": [
    "cpu_test_losses = [tensor.cpu()  for tensor in test_losses  ]"
   ]
  },
  {
   "cell_type": "code",
   "execution_count": null,
   "id": "361b3edf",
   "metadata": {},
   "outputs": [],
   "source": [
    "l = len(train_losses) \n",
    "train_loss_cpu = []\n",
    "for i in range(0,19):\n",
    "    \n",
    "    train_loss_cpu.append(train_losses[i].item())\n"
   ]
  },
  {
   "cell_type": "code",
   "execution_count": null,
   "id": "f702878d",
   "metadata": {},
   "outputs": [],
   "source": [
    "plt.plot(train_loss_cpu, label='training loss')\n",
    "plt.plot(cpu_test_losses, label='validation loss')\n",
    "plt.title('Loss at the end of each epoch')\n",
    "plt.legend();"
   ]
  },
  {
   "cell_type": "code",
   "execution_count": null,
   "id": "616e6e00",
   "metadata": {},
   "outputs": [],
   "source": [
    "train_loss_cpu"
   ]
  },
  {
   "cell_type": "code",
   "execution_count": null,
   "id": "d82432ae",
   "metadata": {},
   "outputs": [],
   "source": [
    "l = len(train_correct) \n",
    "train_correct_cpu = []\n",
    "for i in range(0,l-1):\n",
    "    \n",
    "    train_correct_cpu.append(train_correct[i].item())\n",
    "#train_correct"
   ]
  },
  {
   "cell_type": "code",
   "execution_count": null,
   "id": "3e7e64ec",
   "metadata": {},
   "outputs": [],
   "source": [
    "test_correct_cpu"
   ]
  },
  {
   "cell_type": "code",
   "execution_count": null,
   "id": "dc6f350a",
   "metadata": {},
   "outputs": [],
   "source": [
    "l = len(test_correct) \n",
    "test_correct_cpu = []\n",
    "for i in range(0,l-1):\n",
    "    \n",
    "    test_correct_cpu.append(test_correct[i].item())"
   ]
  },
  {
   "cell_type": "code",
   "execution_count": null,
   "id": "9767b497",
   "metadata": {},
   "outputs": [],
   "source": [
    "plt.plot([t/470 for t in train_correct_cpu], label='training accuracy')\n",
    "plt.plot([t/40 for t in test_correct_cpu], label='validation accuracy')\n",
    "plt.title('Accuracy at the end of each epoch')\n",
    "plt.legend();"
   ]
  },
  {
   "cell_type": "code",
   "execution_count": null,
   "id": "b87c34d6",
   "metadata": {},
   "outputs": [],
   "source": [
    "PATH = '/Users/gmkhan/Documents/06 DCS/Sem3/Computer Vision/Subject Project/BrightField18.pth'\n",
    "#model = resnet18(*args, **kwargs)\n",
    "model = models.resnet18()\n",
    "#torch.manual_seed(42)\n",
    "model.fc = nn.Sequential(nn.Linear(512, 256),\n",
    "                                 nn.ReLU(),\n",
    "                                 nn.Dropout(0.4),\n",
    "                                 nn.Linear(256, 2),\n",
    "                                 nn.LogSoftmax(dim=1))\n",
    "model.load_state_dict(torch.load(PATH))\n",
    "model.eval()"
   ]
  },
  {
   "cell_type": "code",
   "execution_count": null,
   "id": "263744bd",
   "metadata": {},
   "outputs": [],
   "source": [
    "print(type(model))"
   ]
  },
  {
   "cell_type": "code",
   "execution_count": null,
   "id": "211a4806",
   "metadata": {},
   "outputs": [],
   "source": [
    "inv_normalize = transforms.Normalize(\n",
    "    mean=[-0.485/0.229, -0.456/0.224, -0.406/0.225],\n",
    "    std=[1/0.229, 1/0.224, 1/0.225]\n",
    ")"
   ]
  },
  {
   "cell_type": "code",
   "execution_count": null,
   "id": "d7a996dd",
   "metadata": {},
   "outputs": [],
   "source": [
    "x = 31\n",
    "im = inv_normalize(test_data[x][0])\n",
    "plt.imshow(np.transpose(im.numpy(), (1, 2, 0)));"
   ]
  },
  {
   "cell_type": "code",
   "execution_count": null,
   "id": "111c8ab8",
   "metadata": {},
   "outputs": [],
   "source": [
    "test_data[x][0].shape"
   ]
  },
  {
   "cell_type": "code",
   "execution_count": null,
   "id": "81b63898",
   "metadata": {},
   "outputs": [],
   "source": [
    "with torch.no_grad():\n",
    "    new_pred = model(test_data[x][0].view(1,3,224,224)).argmax()\n",
    "print(f'Predicted value: {new_pred.item()} {class_names[new_pred.item()]}')"
   ]
  },
  {
   "cell_type": "markdown",
   "id": "d758fe16",
   "metadata": {},
   "source": [
    "## Retrain with learning rate update "
   ]
  },
  {
   "cell_type": "code",
   "execution_count": null,
   "id": "285b859d",
   "metadata": {},
   "outputs": [],
   "source": [
    "#mps_device = torch.device(\"mps\")\n",
    "root = '/Users/gmkhan/Documents/06 DCS/Sem3/Computer Vision/Subject Project/CVProject1'\n",
    "train_data = datasets.ImageFolder(os.path.join(root,'Train'),transform=train_transform)\n",
    "test_data = datasets.ImageFolder(os.path.join(root,'Test'),transform=test_transform)\n",
    "\n",
    "torch.manual_seed(42)\n",
    "batch_size = 10\n",
    "train_loader = torch.utils.data.DataLoader(train_data, batch_size=batch_size, shuffle=True, num_workers=2,pin_memory=True)\n",
    "test_loader = torch.utils.data.DataLoader(test_data, batch_size=batch_size, shuffle=True, num_workers=2,pin_memory=True)\n",
    "\n",
    "class_names = train_data.classes\n",
    "\n",
    "print(class_names)\n",
    "print(f'Training images available: {len(train_data)}')\n",
    "print(f'Testing images available:  {len(test_data)}')"
   ]
  },
  {
   "cell_type": "code",
   "execution_count": null,
   "id": "26260c5f",
   "metadata": {},
   "outputs": [],
   "source": [
    "resnet18_1 = models.resnet18(pretrained=True)\n",
    "for param in resnet18_1.parameters():\n",
    "    param.requires_grad = False\n",
    "    \n",
    "torch.manual_seed(42)\n",
    "resnet18_1.fc = nn.Sequential(nn.Linear(512, 256),\n",
    "                                 nn.ReLU(),\n",
    "                                 nn.Dropout(0.4),\n",
    "                                 nn.Linear(256, 2),\n",
    "                                 nn.LogSoftmax(dim=1))\n"
   ]
  },
  {
   "cell_type": "code",
   "execution_count": null,
   "id": "929ae8cf",
   "metadata": {},
   "outputs": [],
   "source": [
    "criterion = nn.CrossEntropyLoss()\n",
    "optimizer = torch.optim.Adam(resnet18_1.fc.parameters(), lr=0.01)"
   ]
  },
  {
   "cell_type": "code",
   "execution_count": null,
   "id": "2f598e5b",
   "metadata": {},
   "outputs": [],
   "source": [
    "if not torch.backends.mps.is_available():\n",
    "    if not torch.backends.mps.is_built():\n",
    "        print(\"MPS not available because the current PyTorch install was not \"\n",
    "              \"built with MPS enabled.\")\n",
    "    else:\n",
    "        print(\"MPS not available because the current MacOS version is not 12.3+ \"\n",
    "              \"and/or you do not have an MPS-enabled device on this machine.\")\n",
    "\n",
    "else:\n",
    "    mps_device = torch.device(\"mps\")"
   ]
  },
  {
   "cell_type": "code",
   "execution_count": null,
   "id": "f7abece1",
   "metadata": {},
   "outputs": [],
   "source": [
    "import time\n",
    "start_time = time.time()\n",
    "\n",
    "epochs = 30\n",
    "\n",
    "max_trn_batch = 1000\n",
    "max_tst_batch = 300\n",
    "\n",
    "train_losses = []\n",
    "test_losses = []\n",
    "train_correct = []\n",
    "test_correct = []\n",
    "resnet18_1 = resnet18_1.to(mps_device)\n",
    "\n",
    "for i in range(epochs):\n",
    "    trn_corr = 0\n",
    "    tst_corr = 0\n",
    "    \n",
    "    # Run the training batches\n",
    "    for b, (X_train, y_train) in enumerate(train_loader):\n",
    "        if b == max_trn_batch:\n",
    "            break\n",
    "        b+=1\n",
    "        #print(\"batch:\",b)\n",
    "        # Apply the model\n",
    "        X_train=X_train.to(mps_device)\n",
    "        y_train = y_train.to(mps_device)\n",
    "        \n",
    "        y_pred = resnet18_1(X_train)\n",
    "        loss = criterion(y_pred, y_train)\n",
    " \n",
    "        # Tally the number of correct predictions\n",
    "        predicted = torch.max(y_pred.data, 1)[1]\n",
    "        batch_corr = (predicted == y_train).sum()\n",
    "        trn_corr += batch_corr\n",
    "        \n",
    "        # Update parameters\n",
    "        optimizer.zero_grad()\n",
    "        loss.backward()\n",
    "        optimizer.step()\n",
    "\n",
    "        # Print interim results\n",
    "        if b%47 == 0:\n",
    "            print(f'epoch: {i:2}  batch: {b:4} [{10*b:6}/471]  loss: {loss.item():10.8f}  \\\n",
    "            accuracy: {trn_corr.item()*100/(10*b):7.3f}%')\n",
    "\n",
    "    train_losses.append(loss)\n",
    "    train_correct.append(trn_corr)\n",
    "\n",
    "    # Run the testing batches\n",
    "    with torch.no_grad():\n",
    "        for b, (X_test, y_test) in enumerate(test_loader):\n",
    "            if b == max_tst_batch:\n",
    "                break\n",
    "            X_test=X_test.to(mps_device)\n",
    "            y_test = y_test.to(mps_device)\n",
    "\n",
    "            # Apply the model\n",
    "            y_val = resnet18_1(X_test)\n",
    "\n",
    "            # Tally the number of correct predictions\n",
    "            predicted = torch.max(y_val.data, 1)[1] \n",
    "            tst_corr += (predicted == y_test).sum()\n",
    "\n",
    "    loss = criterion(y_val, y_test)\n",
    "    test_losses.append(loss)\n",
    "    test_correct.append(tst_corr)\n",
    "\n",
    "print(f'\\nDuration: {time.time() - start_time:.0f} seconds') # print the time elapsed"
   ]
  },
  {
   "cell_type": "code",
   "execution_count": null,
   "id": "762daeae",
   "metadata": {},
   "outputs": [],
   "source": [
    "l = len(test_correct) \n",
    "test_c = 0\n",
    "for i in range(0,l-1):\n",
    "    \n",
    "    test_c = test_c + test_correct[i].item()\n",
    "\n",
    "print(f'Test accuracy: {(test_c*100)/(40*l):.3f}%')"
   ]
  },
  {
   "cell_type": "code",
   "execution_count": null,
   "id": "018a860d",
   "metadata": {},
   "outputs": [],
   "source": [
    "l = len(train_losses) \n",
    "train_loss_cpu = []\n",
    "for i in range(0,l-1):\n",
    "    \n",
    "    train_loss_cpu.append(train_losses[i].item())"
   ]
  },
  {
   "cell_type": "code",
   "execution_count": null,
   "id": "53ba1579",
   "metadata": {},
   "outputs": [],
   "source": [
    "l = len(test_losses) \n",
    "test_loss_cpu = []\n",
    "for i in range(0,l-1):\n",
    "    \n",
    "    test_loss_cpu.append(test_losses[i].item())"
   ]
  },
  {
   "cell_type": "code",
   "execution_count": null,
   "id": "f86a69c2",
   "metadata": {},
   "outputs": [],
   "source": [
    "\n",
    "plt.plot(train_loss_cpu, label='training loss')\n",
    "plt.plot(test_loss_cpu, label='validation loss')\n",
    "plt.title('Loss at the end of each epoch')\n",
    "plt.legend();"
   ]
  },
  {
   "cell_type": "code",
   "execution_count": null,
   "id": "1b608be8",
   "metadata": {},
   "outputs": [],
   "source": [
    "l = len(train_correct) \n",
    "train_correct_cpu = []\n",
    "for i in range(0,l-1):\n",
    "    \n",
    "    train_correct_cpu.append(train_correct[i].item())"
   ]
  },
  {
   "cell_type": "code",
   "execution_count": null,
   "id": "ced3e2d7",
   "metadata": {},
   "outputs": [],
   "source": [
    "l = len(test_correct) \n",
    "test_correct_cpu = []\n",
    "for i in range(0,l-1):\n",
    "    \n",
    "    test_correct_cpu.append(test_correct[i].item())"
   ]
  },
  {
   "cell_type": "code",
   "execution_count": null,
   "id": "8b02d9cc",
   "metadata": {},
   "outputs": [],
   "source": [
    "plt.plot([t/470 for t in train_correct_cpu], label='training accuracy')\n",
    "plt.plot([t/40 for t in test_correct_cpu], label='validation accuracy')\n",
    "plt.title('Accuracy at the end of each epoch')\n",
    "plt.legend();"
   ]
  },
  {
   "cell_type": "code",
   "execution_count": null,
   "id": "529cb1fc",
   "metadata": {},
   "outputs": [],
   "source": [
    "torch.save(resnet18_1.state_dict(), '/Users/gmkhan/Documents/06 DCS/Sem3/Computer Vision/Subject Project/BrightField18_1.pth')"
   ]
  },
  {
   "cell_type": "markdown",
   "id": "8ae7ebc6",
   "metadata": {},
   "source": [
    "## Run with previous learning rate but high resolution input "
   ]
  },
  {
   "cell_type": "code",
   "execution_count": null,
   "id": "a1d86091",
   "metadata": {},
   "outputs": [],
   "source": [
    "train_transform = transforms.Compose([\n",
    "    transforms.RandomRotation(10),\n",
    "    transforms.Resize((224,224)),\n",
    "    transforms.ToTensor(),\n",
    "    transforms.Normalize([0.485, 0.456, 0.406],[0.229, 0.224, 0.225])\n",
    "])"
   ]
  },
  {
   "cell_type": "code",
   "execution_count": null,
   "id": "af8f65d6",
   "metadata": {},
   "outputs": [],
   "source": [
    "test_transform = transforms.Compose([\n",
    "    transforms.Resize((224,224)),\n",
    "    transforms.ToTensor(),\n",
    "    transforms.Normalize([0.485, 0.456, 0.406],[0.229, 0.224, 0.225])\n",
    "])"
   ]
  },
  {
   "cell_type": "code",
   "execution_count": null,
   "id": "7e17a2be",
   "metadata": {},
   "outputs": [],
   "source": [
    "#mps_device = torch.device(\"mps\")\n",
    "root = '/Users/gmkhan/Documents/06 DCS/Sem3/Computer Vision/Subject Project/CVProject1'\n",
    "train_data = datasets.ImageFolder(os.path.join(root,'Train'),transform=train_transform)\n",
    "test_data = datasets.ImageFolder(os.path.join(root,'Test'),transform=test_transform)\n",
    "\n",
    "torch.manual_seed(42)\n",
    "batch_size = 10\n",
    "train_loader = torch.utils.data.DataLoader(train_data, batch_size=batch_size, shuffle=True, num_workers=2,pin_memory=True)\n",
    "test_loader = torch.utils.data.DataLoader(test_data, batch_size=batch_size, shuffle=True, num_workers=2,pin_memory=True)\n",
    "\n",
    "class_names = train_data.classes\n",
    "\n",
    "print(class_names)\n",
    "print(f'Training images available: {len(train_data)}')\n",
    "print(f'Testing images available:  {len(test_data)}')"
   ]
  },
  {
   "cell_type": "code",
   "execution_count": null,
   "id": "0e19e8cc",
   "metadata": {},
   "outputs": [],
   "source": [
    "resnet18_2 = models.resnet18(pretrained=True)\n",
    "for param in resnet18_2.parameters():\n",
    "    param.requires_grad = False\n",
    "    \n",
    "torch.manual_seed(42)\n",
    "resnet18_2.fc = nn.Sequential(nn.Linear(512, 256),\n",
    "                                 nn.ReLU(),\n",
    "                                 nn.Dropout(0.4),\n",
    "                                 nn.Linear(256, 2),\n",
    "                                 nn.LogSoftmax(dim=1))\n"
   ]
  },
  {
   "cell_type": "code",
   "execution_count": null,
   "id": "991a4f4e",
   "metadata": {},
   "outputs": [],
   "source": [
    "criterion = nn.CrossEntropyLoss()\n",
    "optimizer = torch.optim.Adam(resnet18_2.fc.parameters(), lr=0.001)"
   ]
  },
  {
   "cell_type": "code",
   "execution_count": null,
   "id": "4f6bffff",
   "metadata": {},
   "outputs": [],
   "source": [
    "if not torch.backends.mps.is_available():\n",
    "    if not torch.backends.mps.is_built():\n",
    "        print(\"MPS not available because the current PyTorch install was not \"\n",
    "              \"built with MPS enabled.\")\n",
    "    else:\n",
    "        print(\"MPS not available because the current MacOS version is not 12.3+ \"\n",
    "              \"and/or you do not have an MPS-enabled device on this machine.\")\n",
    "\n",
    "else:\n",
    "    mps_device = torch.device(\"mps\")"
   ]
  },
  {
   "cell_type": "code",
   "execution_count": null,
   "id": "bcab0dba",
   "metadata": {},
   "outputs": [],
   "source": [
    "import time\n",
    "start_time = time.time()\n",
    "\n",
    "epochs = 30\n",
    "\n",
    "max_trn_batch = 2000\n",
    "max_tst_batch = 2000\n",
    "\n",
    "train_losses = []\n",
    "test_losses = []\n",
    "train_correct = []\n",
    "test_correct = []\n",
    "resnet18_2 = resnet18_2.to(mps_device)\n",
    "\n",
    "for i in range(epochs):\n",
    "    trn_corr = 0\n",
    "    tst_corr = 0\n",
    "    \n",
    "    # Run the training batches\n",
    "    for b, (X_train, y_train) in enumerate(train_loader):\n",
    "        if b == max_trn_batch:\n",
    "            break\n",
    "        b+=1\n",
    "        #print(\"batch:\",b)\n",
    "        # Apply the model\n",
    "        X_train=X_train.to(mps_device)\n",
    "        y_train = y_train.to(mps_device)\n",
    "        \n",
    "        y_pred = resnet18_2(X_train)\n",
    "        loss = criterion(y_pred, y_train)\n",
    " \n",
    "        # Tally the number of correct predictions\n",
    "        predicted = torch.max(y_pred.data, 1)[1]\n",
    "        batch_corr = (predicted == y_train).sum()\n",
    "        trn_corr += batch_corr\n",
    "        \n",
    "        # Update parameters\n",
    "        optimizer.zero_grad()\n",
    "        loss.backward()\n",
    "        optimizer.step()\n",
    "\n",
    "        # Print interim results\n",
    "        if b%47 == 0:\n",
    "            print(f'epoch: {i:2}  batch: {b:4} [{10*b:6}/471]  loss: {loss.item():10.8f}  \\\n",
    "            accuracy: {trn_corr.item()*100/(10*b):7.3f}%')\n",
    "\n",
    "    train_losses.append(loss)\n",
    "    train_correct.append(trn_corr)\n",
    "\n",
    "    # Run the testing batches\n",
    "    with torch.no_grad():\n",
    "        for b, (X_test, y_test) in enumerate(test_loader):\n",
    "            if b == max_tst_batch:\n",
    "                break\n",
    "            X_test=X_test.to(mps_device)\n",
    "            y_test = y_test.to(mps_device)\n",
    "\n",
    "            # Apply the model\n",
    "            y_val = resnet18_2(X_test)\n",
    "\n",
    "            # Tally the number of correct predictions\n",
    "            predicted = torch.max(y_val.data, 1)[1] \n",
    "            tst_corr += (predicted == y_test).sum()\n",
    "\n",
    "    loss = criterion(y_val, y_test)\n",
    "    test_losses.append(loss)\n",
    "    test_correct.append(tst_corr)\n",
    "\n",
    "print(f'\\nDuration: {time.time() - start_time:.0f} seconds') # print the time elapsed"
   ]
  },
  {
   "cell_type": "code",
   "execution_count": null,
   "id": "6275ea60",
   "metadata": {},
   "outputs": [],
   "source": [
    "l = len(test_correct) \n",
    "test_c = 0\n",
    "for i in range(0,l-1):\n",
    "    \n",
    "    test_c = test_c + test_correct[i].item()\n",
    "\n",
    "print(f'Test accuracy: {(test_c*100)/(40*l):.3f}%')"
   ]
  },
  {
   "cell_type": "code",
   "execution_count": null,
   "id": "e6cf4476",
   "metadata": {},
   "outputs": [],
   "source": [
    "l = len(train_losses) \n",
    "train_loss_cpu = []\n",
    "for i in range(0,l-1):\n",
    "    \n",
    "    train_loss_cpu.append(train_losses[i].item())"
   ]
  },
  {
   "cell_type": "code",
   "execution_count": null,
   "id": "2546a847",
   "metadata": {},
   "outputs": [],
   "source": [
    "l = len(test_losses) \n",
    "test_loss_cpu = []\n",
    "for i in range(0,l-1):\n",
    "    \n",
    "    test_loss_cpu.append(test_losses[i].item())"
   ]
  },
  {
   "cell_type": "code",
   "execution_count": null,
   "id": "60738584",
   "metadata": {},
   "outputs": [],
   "source": [
    "plt.plot(train_loss_cpu, label='training loss')\n",
    "plt.plot(test_loss_cpu, label='validation loss')\n",
    "plt.title('Loss at the end of each epoch')\n",
    "plt.legend();"
   ]
  },
  {
   "cell_type": "code",
   "execution_count": null,
   "id": "688d7eca",
   "metadata": {},
   "outputs": [],
   "source": [
    "l = len(train_correct) \n",
    "train_correct_cpu = []\n",
    "for i in range(0,l-1):\n",
    "    \n",
    "    train_correct_cpu.append(train_correct[i].item())"
   ]
  },
  {
   "cell_type": "code",
   "execution_count": null,
   "id": "776cb98c",
   "metadata": {},
   "outputs": [],
   "source": [
    "l = len(test_correct) \n",
    "test_correct_cpu = []\n",
    "for i in range(0,l-1):\n",
    "    \n",
    "    test_correct_cpu.append(test_correct[i].item())"
   ]
  },
  {
   "cell_type": "code",
   "execution_count": null,
   "id": "48a19501",
   "metadata": {},
   "outputs": [],
   "source": [
    "plt.plot([t/470 for t in train_correct_cpu], label='training accuracy')\n",
    "plt.plot([t/40 for t in test_correct_cpu], label='validation accuracy')\n",
    "plt.title('Accuracy at the end of each epoch')\n",
    "plt.legend();"
   ]
  },
  {
   "cell_type": "code",
   "execution_count": null,
   "id": "7394d3a6",
   "metadata": {},
   "outputs": [],
   "source": [
    "torch.save(resnet18_2.state_dict(), '/Users/gmkhan/Documents/06 DCS/Sem3/Computer Vision/Subject Project/BrightField18_2.pth')"
   ]
  },
  {
   "cell_type": "markdown",
   "id": "4ab05c27",
   "metadata": {},
   "source": [
    "## Try Resnet34"
   ]
  },
  {
   "cell_type": "code",
   "execution_count": null,
   "id": "164f9f54",
   "metadata": {},
   "outputs": [],
   "source": [
    "resnet34 = models.resnet34(pretrained=True)\n",
    "for param in resnet34.parameters():\n",
    "    param.requires_grad = False\n",
    "    \n",
    "torch.manual_seed(42)\n",
    "resnet34.fc = nn.Sequential(nn.Linear(512, 256),\n",
    "                                 nn.ReLU(),\n",
    "                                 nn.Dropout(0.4),\n",
    "                                 nn.Linear(256, 2),\n",
    "                                 nn.LogSoftmax(dim=1))\n"
   ]
  },
  {
   "cell_type": "code",
   "execution_count": null,
   "id": "79c48fe1",
   "metadata": {},
   "outputs": [],
   "source": [
    "criterion = nn.CrossEntropyLoss()\n",
    "optimizer = torch.optim.Adam(resnet34.fc.parameters(), lr=0.001)"
   ]
  },
  {
   "cell_type": "code",
   "execution_count": null,
   "id": "1398f767",
   "metadata": {},
   "outputs": [],
   "source": [
    "if not torch.backends.mps.is_available():\n",
    "    if not torch.backends.mps.is_built():\n",
    "        print(\"MPS not available because the current PyTorch install was not \"\n",
    "              \"built with MPS enabled.\")\n",
    "    else:\n",
    "        print(\"MPS not available because the current MacOS version is not 12.3+ \"\n",
    "              \"and/or you do not have an MPS-enabled device on this machine.\")\n",
    "\n",
    "else:\n",
    "    mps_device = torch.device(\"mps\")\n",
    "    print(\"mps allocated \")"
   ]
  },
  {
   "cell_type": "code",
   "execution_count": null,
   "id": "def786e0",
   "metadata": {},
   "outputs": [],
   "source": [
    "import time\n",
    "start_time = time.time()\n",
    "\n",
    "epochs = 100\n",
    "\n",
    "max_trn_batch = 2000\n",
    "max_tst_batch = 2000\n",
    "\n",
    "train_losses = []\n",
    "test_losses = []\n",
    "train_correct = []\n",
    "test_correct = []\n",
    "resnet34 = resnet34.to(mps_device)\n",
    "\n",
    "for i in range(epochs):\n",
    "    trn_corr = 0\n",
    "    tst_corr = 0\n",
    "    \n",
    "    # Run the training batches\n",
    "    for b, (X_train, y_train) in enumerate(train_loader):\n",
    "        if b == max_trn_batch:\n",
    "            break\n",
    "        b+=1\n",
    "        #print(\"batch:\",b)\n",
    "        # Apply the model\n",
    "        X_train=X_train.to(mps_device)\n",
    "        y_train = y_train.to(mps_device)\n",
    "        \n",
    "        y_pred = resnet34(X_train)\n",
    "        loss = criterion(y_pred, y_train)\n",
    " \n",
    "        # Tally the number of correct predictions\n",
    "        predicted = torch.max(y_pred.data, 1)[1]\n",
    "        batch_corr = (predicted == y_train).sum()\n",
    "        trn_corr += batch_corr\n",
    "        \n",
    "        # Update parameters\n",
    "        optimizer.zero_grad()\n",
    "        loss.backward()\n",
    "        optimizer.step()\n",
    "\n",
    "        # Print interim results\n",
    "        if b%47 == 0:\n",
    "            print(f'epoch: {i:2}  batch: {b:4} [{10*b:6}/471]  loss: {loss.item():10.8f}  \\\n",
    "            accuracy: {trn_corr.item()*100/(10*b):7.3f}%')\n",
    "\n",
    "    train_losses.append(loss)\n",
    "    train_correct.append(trn_corr)\n",
    "\n",
    "    # Run the testing batches\n",
    "    with torch.no_grad():\n",
    "        for b, (X_test, y_test) in enumerate(test_loader):\n",
    "            if b == max_tst_batch:\n",
    "                break\n",
    "            X_test=X_test.to(mps_device)\n",
    "            y_test = y_test.to(mps_device)\n",
    "\n",
    "            # Apply the model\n",
    "            y_val = resnet34(X_test)\n",
    "\n",
    "            # Tally the number of correct predictions\n",
    "            predicted = torch.max(y_val.data, 1)[1] \n",
    "            tst_corr += (predicted == y_test).sum()\n",
    "\n",
    "    loss = criterion(y_val, y_test)\n",
    "    test_losses.append(loss)\n",
    "    test_correct.append(tst_corr)\n",
    "\n",
    "print(f'\\nDuration: {time.time() - start_time:.0f} seconds') # print the time elapsed"
   ]
  },
  {
   "cell_type": "code",
   "execution_count": null,
   "id": "68c7de43",
   "metadata": {},
   "outputs": [],
   "source": [
    "l = len(test_correct) \n",
    "test_c = 0\n",
    "for i in range(0,l-1):\n",
    "    \n",
    "    test_c = test_c + test_correct[i].item()\n",
    "\n",
    "print(f'Test accuracy: {(test_c*100)/(40*l):.3f}%')"
   ]
  },
  {
   "cell_type": "code",
   "execution_count": null,
   "id": "87823ef1",
   "metadata": {},
   "outputs": [],
   "source": [
    "l = len(train_losses) \n",
    "train_loss_cpu = []\n",
    "for i in range(0,l-1):\n",
    "    \n",
    "    train_loss_cpu.append(train_losses[i].item())"
   ]
  },
  {
   "cell_type": "code",
   "execution_count": null,
   "id": "61b25451",
   "metadata": {},
   "outputs": [],
   "source": [
    "l = len(test_losses) \n",
    "test_loss_cpu = []\n",
    "for i in range(0,l-1):\n",
    "    \n",
    "    test_loss_cpu.append(test_losses[i].item())"
   ]
  },
  {
   "cell_type": "code",
   "execution_count": null,
   "id": "4b5510ba",
   "metadata": {},
   "outputs": [],
   "source": [
    "plt.plot(train_loss_cpu, label='training loss')\n",
    "plt.plot(test_loss_cpu, label='validation loss')\n",
    "plt.title('Loss at the end of each epoch')\n",
    "plt.legend();"
   ]
  },
  {
   "cell_type": "code",
   "execution_count": null,
   "id": "00cc77cd",
   "metadata": {},
   "outputs": [],
   "source": [
    "l = len(train_correct) \n",
    "train_correct_cpu = []\n",
    "for i in range(0,l-1):\n",
    "    \n",
    "    train_correct_cpu.append(train_correct[i].item())"
   ]
  },
  {
   "cell_type": "code",
   "execution_count": null,
   "id": "d46e924e",
   "metadata": {},
   "outputs": [],
   "source": [
    "l = len(test_correct) \n",
    "test_correct_cpu = []\n",
    "for i in range(0,l-1):\n",
    "    \n",
    "    test_correct_cpu.append(test_correct[i].item())"
   ]
  },
  {
   "cell_type": "code",
   "execution_count": null,
   "id": "49aab9a2",
   "metadata": {},
   "outputs": [],
   "source": [
    "plt.plot([t/470 for t in train_correct_cpu], label='training accuracy')\n",
    "plt.plot([t/40 for t in test_correct_cpu], label='validation accuracy')\n",
    "plt.title('Accuracy at the end of each epoch')\n",
    "plt.legend();"
   ]
  },
  {
   "cell_type": "code",
   "execution_count": null,
   "id": "6bc0dc26",
   "metadata": {},
   "outputs": [],
   "source": [
    "torch.save(resnet34.state_dict(), '/Users/gmkhan/Documents/06 DCS/Sem3/Computer Vision/Subject Project/BrightField34_1.pth')"
   ]
  },
  {
   "cell_type": "markdown",
   "id": "e93553a8",
   "metadata": {},
   "source": [
    "### Resnet50"
   ]
  },
  {
   "cell_type": "code",
   "execution_count": 5,
   "id": "f8e6e34f",
   "metadata": {},
   "outputs": [],
   "source": [
    "resnet50 = models.resnet50(pretrained=False)\n",
    "for param in resnet50.parameters():\n",
    "    param.requires_grad = False\n",
    "    \n",
    "torch.manual_seed(42)\n",
    "resnet50.fc = nn.Sequential(nn.Linear(2048, 512),\n",
    "                                 nn.ReLU(),\n",
    "                                 nn.Dropout(0.4),\n",
    "                                 nn.Linear(512, 2),\n",
    "                                 nn.LogSoftmax(dim=1))"
   ]
  },
  {
   "cell_type": "code",
   "execution_count": 6,
   "id": "9f44d5b7",
   "metadata": {},
   "outputs": [],
   "source": [
    "criterion = nn.CrossEntropyLoss()\n",
    "optimizer = torch.optim.Adam(resnet50.fc.parameters(), lr=0.0001)"
   ]
  },
  {
   "cell_type": "code",
   "execution_count": 7,
   "id": "518142af",
   "metadata": {},
   "outputs": [],
   "source": [
    "if not torch.backends.mps.is_available():\n",
    "    if not torch.backends.mps.is_built():\n",
    "        print(\"MPS not available because the current PyTorch install was not \"\n",
    "              \"built with MPS enabled.\")\n",
    "    else:\n",
    "        print(\"MPS not available because the current MacOS version is not 12.3+ \"\n",
    "              \"and/or you do not have an MPS-enabled device on this machine.\")\n",
    "\n",
    "else:\n",
    "    mps_device = torch.device(\"mps\")"
   ]
  },
  {
   "cell_type": "code",
   "execution_count": 8,
   "id": "266c6b95",
   "metadata": {},
   "outputs": [
    {
     "name": "stdout",
     "output_type": "stream",
     "text": [
      "epoch:  0  batch:   47 [   470/471]  loss: 0.62056226              accuracy:  58.723%\n",
      "epoch:  1  batch:   47 [   470/471]  loss: 0.70803201              accuracy:  57.872%\n",
      "epoch:  2  batch:   47 [   470/471]  loss: 0.59716421              accuracy:  60.851%\n",
      "epoch:  3  batch:   47 [   470/471]  loss: 0.66699588              accuracy:  60.426%\n",
      "epoch:  4  batch:   47 [   470/471]  loss: 0.84741545              accuracy:  60.000%\n",
      "epoch:  5  batch:   47 [   470/471]  loss: 0.91977680              accuracy:  57.872%\n",
      "epoch:  6  batch:   47 [   470/471]  loss: 0.74057370              accuracy:  60.213%\n",
      "epoch:  7  batch:   47 [   470/471]  loss: 0.67854422              accuracy:  60.000%\n",
      "epoch:  8  batch:   47 [   470/471]  loss: 0.60571992              accuracy:  63.191%\n",
      "epoch:  9  batch:   47 [   470/471]  loss: 0.57516873              accuracy:  62.979%\n",
      "epoch: 10  batch:   47 [   470/471]  loss: 0.59368062              accuracy:  59.362%\n",
      "epoch: 11  batch:   47 [   470/471]  loss: 0.67351407              accuracy:  61.489%\n",
      "epoch: 12  batch:   47 [   470/471]  loss: 0.76995379              accuracy:  61.064%\n",
      "epoch: 13  batch:   47 [   470/471]  loss: 0.69211549              accuracy:  61.277%\n",
      "epoch: 14  batch:   47 [   470/471]  loss: 0.78095341              accuracy:  62.766%\n",
      "epoch: 15  batch:   47 [   470/471]  loss: 0.71600115              accuracy:  61.915%\n",
      "epoch: 16  batch:   47 [   470/471]  loss: 0.67995179              accuracy:  60.426%\n",
      "epoch: 17  batch:   47 [   470/471]  loss: 0.63742274              accuracy:  61.702%\n",
      "epoch: 18  batch:   47 [   470/471]  loss: 0.77317774              accuracy:  62.766%\n",
      "epoch: 19  batch:   47 [   470/471]  loss: 0.70747501              accuracy:  61.277%\n",
      "epoch: 20  batch:   47 [   470/471]  loss: 0.63314295              accuracy:  62.553%\n",
      "epoch: 21  batch:   47 [   470/471]  loss: 0.59089738              accuracy:  62.340%\n",
      "epoch: 22  batch:   47 [   470/471]  loss: 0.68338019              accuracy:  61.277%\n",
      "epoch: 23  batch:   47 [   470/471]  loss: 0.66939342              accuracy:  60.638%\n",
      "epoch: 24  batch:   47 [   470/471]  loss: 0.54065931              accuracy:  62.128%\n",
      "epoch: 25  batch:   47 [   470/471]  loss: 0.60272086              accuracy:  63.404%\n",
      "epoch: 26  batch:   47 [   470/471]  loss: 0.60574889              accuracy:  64.043%\n",
      "epoch: 27  batch:   47 [   470/471]  loss: 0.65948093              accuracy:  61.489%\n",
      "epoch: 28  batch:   47 [   470/471]  loss: 0.62320083              accuracy:  60.638%\n",
      "epoch: 29  batch:   47 [   470/471]  loss: 0.62101471              accuracy:  62.340%\n",
      "epoch: 30  batch:   47 [   470/471]  loss: 0.53240508              accuracy:  60.426%\n",
      "epoch: 31  batch:   47 [   470/471]  loss: 0.61052418              accuracy:  61.702%\n",
      "epoch: 32  batch:   47 [   470/471]  loss: 0.60403144              accuracy:  63.191%\n",
      "epoch: 33  batch:   47 [   470/471]  loss: 0.71974695              accuracy:  61.702%\n",
      "epoch: 34  batch:   47 [   470/471]  loss: 0.70874292              accuracy:  61.064%\n",
      "epoch: 35  batch:   47 [   470/471]  loss: 0.63856041              accuracy:  61.702%\n",
      "epoch: 36  batch:   47 [   470/471]  loss: 0.54213369              accuracy:  60.638%\n",
      "epoch: 37  batch:   47 [   470/471]  loss: 0.62320238              accuracy:  61.915%\n",
      "epoch: 38  batch:   47 [   470/471]  loss: 0.67264789              accuracy:  61.489%\n",
      "epoch: 39  batch:   47 [   470/471]  loss: 0.61001241              accuracy:  61.277%\n",
      "epoch: 40  batch:   47 [   470/471]  loss: 0.53712863              accuracy:  63.404%\n",
      "epoch: 41  batch:   47 [   470/471]  loss: 0.67962015              accuracy:  61.489%\n",
      "epoch: 42  batch:   47 [   470/471]  loss: 0.65161264              accuracy:  61.915%\n",
      "epoch: 43  batch:   47 [   470/471]  loss: 0.55739182              accuracy:  61.277%\n",
      "epoch: 44  batch:   47 [   470/471]  loss: 0.51924765              accuracy:  62.340%\n",
      "epoch: 45  batch:   47 [   470/471]  loss: 0.58027267              accuracy:  61.064%\n",
      "epoch: 46  batch:   47 [   470/471]  loss: 0.73183161              accuracy:  62.553%\n",
      "epoch: 47  batch:   47 [   470/471]  loss: 0.55240834              accuracy:  60.000%\n",
      "epoch: 48  batch:   47 [   470/471]  loss: 0.60416108              accuracy:  62.128%\n",
      "epoch: 49  batch:   47 [   470/471]  loss: 0.69171667              accuracy:  61.064%\n",
      "epoch: 50  batch:   47 [   470/471]  loss: 0.67571628              accuracy:  62.128%\n",
      "epoch: 51  batch:   47 [   470/471]  loss: 0.81200802              accuracy:  62.128%\n",
      "epoch: 52  batch:   47 [   470/471]  loss: 0.58630067              accuracy:  60.851%\n",
      "epoch: 53  batch:   47 [   470/471]  loss: 0.69377637              accuracy:  62.979%\n",
      "epoch: 54  batch:   47 [   470/471]  loss: 0.65503603              accuracy:  59.787%\n",
      "epoch: 55  batch:   47 [   470/471]  loss: 0.63370943              accuracy:  62.340%\n",
      "epoch: 56  batch:   47 [   470/471]  loss: 0.71264333              accuracy:  61.702%\n",
      "epoch: 57  batch:   47 [   470/471]  loss: 0.58176929              accuracy:  61.702%\n",
      "epoch: 58  batch:   47 [   470/471]  loss: 0.56870788              accuracy:  62.979%\n",
      "epoch: 59  batch:   47 [   470/471]  loss: 0.73096472              accuracy:  62.340%\n",
      "epoch: 60  batch:   47 [   470/471]  loss: 0.61485815              accuracy:  61.277%\n",
      "epoch: 61  batch:   47 [   470/471]  loss: 0.53917438              accuracy:  62.128%\n",
      "epoch: 62  batch:   47 [   470/471]  loss: 0.49698180              accuracy:  62.340%\n",
      "epoch: 63  batch:   47 [   470/471]  loss: 0.63116312              accuracy:  61.915%\n",
      "epoch: 64  batch:   47 [   470/471]  loss: 0.73624372              accuracy:  61.277%\n",
      "epoch: 65  batch:   47 [   470/471]  loss: 0.59110796              accuracy:  62.128%\n",
      "epoch: 66  batch:   47 [   470/471]  loss: 0.76326019              accuracy:  60.851%\n",
      "epoch: 67  batch:   47 [   470/471]  loss: 0.61892593              accuracy:  61.489%\n",
      "epoch: 68  batch:   47 [   470/471]  loss: 0.58226162              accuracy:  62.766%\n",
      "epoch: 69  batch:   47 [   470/471]  loss: 0.74808609              accuracy:  62.979%\n",
      "epoch: 70  batch:   47 [   470/471]  loss: 0.65537190              accuracy:  62.128%\n",
      "epoch: 71  batch:   47 [   470/471]  loss: 0.56413299              accuracy:  61.064%\n",
      "epoch: 72  batch:   47 [   470/471]  loss: 0.73516369              accuracy:  61.489%\n",
      "epoch: 73  batch:   47 [   470/471]  loss: 0.72131622              accuracy:  62.553%\n",
      "epoch: 74  batch:   47 [   470/471]  loss: 0.62820297              accuracy:  61.489%\n",
      "epoch: 75  batch:   47 [   470/471]  loss: 0.72763336              accuracy:  61.915%\n",
      "epoch: 76  batch:   47 [   470/471]  loss: 0.81944895              accuracy:  63.404%\n",
      "epoch: 77  batch:   47 [   470/471]  loss: 0.67978251              accuracy:  60.638%\n",
      "epoch: 78  batch:   47 [   470/471]  loss: 0.60217690              accuracy:  62.340%\n",
      "epoch: 79  batch:   47 [   470/471]  loss: 0.81689769              accuracy:  60.851%\n",
      "epoch: 80  batch:   47 [   470/471]  loss: 0.58567417              accuracy:  63.191%\n",
      "epoch: 81  batch:   47 [   470/471]  loss: 0.79627240              accuracy:  62.128%\n",
      "epoch: 82  batch:   47 [   470/471]  loss: 0.88328636              accuracy:  60.851%\n",
      "epoch: 83  batch:   47 [   470/471]  loss: 0.61315447              accuracy:  62.128%\n",
      "epoch: 84  batch:   47 [   470/471]  loss: 0.67056406              accuracy:  63.617%\n",
      "epoch: 85  batch:   47 [   470/471]  loss: 0.77605963              accuracy:  61.489%\n",
      "epoch: 86  batch:   47 [   470/471]  loss: 0.62035072              accuracy:  63.191%\n",
      "epoch: 87  batch:   47 [   470/471]  loss: 0.61641043              accuracy:  60.851%\n",
      "epoch: 88  batch:   47 [   470/471]  loss: 0.63406438              accuracy:  61.702%\n",
      "epoch: 89  batch:   47 [   470/471]  loss: 0.80393803              accuracy:  61.702%\n",
      "epoch: 90  batch:   47 [   470/471]  loss: 0.77722824              accuracy:  62.553%\n",
      "epoch: 91  batch:   47 [   470/471]  loss: 0.74555534              accuracy:  61.702%\n",
      "epoch: 92  batch:   47 [   470/471]  loss: 0.74032342              accuracy:  62.979%\n",
      "epoch: 93  batch:   47 [   470/471]  loss: 0.58061868              accuracy:  61.489%\n",
      "epoch: 94  batch:   47 [   470/471]  loss: 0.73950291              accuracy:  61.915%\n",
      "epoch: 95  batch:   47 [   470/471]  loss: 0.60345411              accuracy:  60.638%\n"
     ]
    },
    {
     "name": "stdout",
     "output_type": "stream",
     "text": [
      "epoch: 96  batch:   47 [   470/471]  loss: 0.56863576              accuracy:  62.128%\n",
      "epoch: 97  batch:   47 [   470/471]  loss: 0.59830773              accuracy:  63.404%\n",
      "epoch: 98  batch:   47 [   470/471]  loss: 0.68317693              accuracy:  60.638%\n",
      "epoch: 99  batch:   47 [   470/471]  loss: 0.77115458              accuracy:  63.191%\n",
      "epoch: 100  batch:   47 [   470/471]  loss: 0.57920444              accuracy:  60.213%\n",
      "epoch: 101  batch:   47 [   470/471]  loss: 0.58034718              accuracy:  61.489%\n",
      "epoch: 102  batch:   47 [   470/471]  loss: 0.75824052              accuracy:  60.426%\n",
      "epoch: 103  batch:   47 [   470/471]  loss: 0.53442591              accuracy:  61.277%\n",
      "epoch: 104  batch:   47 [   470/471]  loss: 0.60734546              accuracy:  63.191%\n",
      "epoch: 105  batch:   47 [   470/471]  loss: 0.66412526              accuracy:  61.489%\n",
      "epoch: 106  batch:   47 [   470/471]  loss: 0.47161740              accuracy:  61.489%\n",
      "epoch: 107  batch:   47 [   470/471]  loss: 0.56087863              accuracy:  63.617%\n",
      "epoch: 108  batch:   47 [   470/471]  loss: 0.68009436              accuracy:  61.489%\n",
      "epoch: 109  batch:   47 [   470/471]  loss: 0.67956227              accuracy:  64.255%\n",
      "epoch: 110  batch:   47 [   470/471]  loss: 0.73020047              accuracy:  61.489%\n",
      "epoch: 111  batch:   47 [   470/471]  loss: 0.58769500              accuracy:  61.702%\n",
      "epoch: 112  batch:   47 [   470/471]  loss: 0.57454300              accuracy:  60.426%\n",
      "epoch: 113  batch:   47 [   470/471]  loss: 0.77848685              accuracy:  61.064%\n",
      "epoch: 114  batch:   47 [   470/471]  loss: 0.62935913              accuracy:  62.553%\n",
      "epoch: 115  batch:   47 [   470/471]  loss: 0.60661453              accuracy:  61.064%\n",
      "epoch: 116  batch:   47 [   470/471]  loss: 0.64418167              accuracy:  61.915%\n",
      "epoch: 117  batch:   47 [   470/471]  loss: 0.91656560              accuracy:  61.915%\n",
      "epoch: 118  batch:   47 [   470/471]  loss: 0.53723449              accuracy:  62.128%\n",
      "epoch: 119  batch:   47 [   470/471]  loss: 0.62207711              accuracy:  61.702%\n",
      "epoch: 120  batch:   47 [   470/471]  loss: 0.77844650              accuracy:  61.064%\n",
      "epoch: 121  batch:   47 [   470/471]  loss: 0.62520987              accuracy:  62.553%\n",
      "epoch: 122  batch:   47 [   470/471]  loss: 0.65639544              accuracy:  62.553%\n",
      "epoch: 123  batch:   47 [   470/471]  loss: 0.49711713              accuracy:  61.489%\n",
      "epoch: 124  batch:   47 [   470/471]  loss: 0.59418118              accuracy:  61.702%\n",
      "epoch: 125  batch:   47 [   470/471]  loss: 0.56095159              accuracy:  62.766%\n",
      "epoch: 126  batch:   47 [   470/471]  loss: 0.55348480              accuracy:  62.128%\n",
      "epoch: 127  batch:   47 [   470/471]  loss: 0.80731714              accuracy:  62.340%\n",
      "epoch: 128  batch:   47 [   470/471]  loss: 0.58361089              accuracy:  61.277%\n",
      "epoch: 129  batch:   47 [   470/471]  loss: 0.58469492              accuracy:  62.553%\n",
      "epoch: 130  batch:   47 [   470/471]  loss: 0.72354543              accuracy:  62.553%\n",
      "epoch: 131  batch:   47 [   470/471]  loss: 0.83818513              accuracy:  60.213%\n",
      "epoch: 132  batch:   47 [   470/471]  loss: 0.64717656              accuracy:  61.277%\n",
      "epoch: 133  batch:   47 [   470/471]  loss: 0.59430629              accuracy:  61.064%\n",
      "epoch: 134  batch:   47 [   470/471]  loss: 0.57386672              accuracy:  60.000%\n",
      "epoch: 135  batch:   47 [   470/471]  loss: 0.58408976              accuracy:  62.979%\n",
      "epoch: 136  batch:   47 [   470/471]  loss: 0.61983716              accuracy:  62.340%\n",
      "epoch: 137  batch:   47 [   470/471]  loss: 0.50878048              accuracy:  62.553%\n",
      "epoch: 138  batch:   47 [   470/471]  loss: 0.60765123              accuracy:  62.128%\n",
      "epoch: 139  batch:   47 [   470/471]  loss: 0.71770191              accuracy:  60.851%\n",
      "epoch: 140  batch:   47 [   470/471]  loss: 0.67192698              accuracy:  60.638%\n",
      "epoch: 141  batch:   47 [   470/471]  loss: 0.81264210              accuracy:  61.915%\n",
      "epoch: 142  batch:   47 [   470/471]  loss: 0.66519225              accuracy:  63.191%\n",
      "epoch: 143  batch:   47 [   470/471]  loss: 0.74724948              accuracy:  61.277%\n",
      "epoch: 144  batch:   47 [   470/471]  loss: 0.62512940              accuracy:  62.128%\n",
      "epoch: 145  batch:   47 [   470/471]  loss: 0.89485168              accuracy:  61.489%\n",
      "epoch: 146  batch:   47 [   470/471]  loss: 0.75699443              accuracy:  61.915%\n",
      "epoch: 147  batch:   47 [   470/471]  loss: 0.52963930              accuracy:  61.915%\n",
      "epoch: 148  batch:   47 [   470/471]  loss: 0.70294583              accuracy:  61.489%\n",
      "epoch: 149  batch:   47 [   470/471]  loss: 0.68826711              accuracy:  62.766%\n",
      "epoch: 150  batch:   47 [   470/471]  loss: 0.55777442              accuracy:  63.617%\n",
      "epoch: 151  batch:   47 [   470/471]  loss: 0.60560751              accuracy:  62.979%\n",
      "epoch: 152  batch:   47 [   470/471]  loss: 0.62668085              accuracy:  62.766%\n",
      "epoch: 153  batch:   47 [   470/471]  loss: 0.59328616              accuracy:  61.702%\n",
      "epoch: 154  batch:   47 [   470/471]  loss: 0.69386709              accuracy:  62.979%\n",
      "epoch: 155  batch:   47 [   470/471]  loss: 0.58005953              accuracy:  60.638%\n",
      "epoch: 156  batch:   47 [   470/471]  loss: 0.75750595              accuracy:  62.766%\n",
      "epoch: 157  batch:   47 [   470/471]  loss: 0.69367611              accuracy:  62.979%\n",
      "epoch: 158  batch:   47 [   470/471]  loss: 0.61931199              accuracy:  62.340%\n",
      "epoch: 159  batch:   47 [   470/471]  loss: 0.73885250              accuracy:  61.702%\n",
      "epoch: 160  batch:   47 [   470/471]  loss: 0.62447816              accuracy:  61.277%\n",
      "epoch: 161  batch:   47 [   470/471]  loss: 0.57300484              accuracy:  62.340%\n",
      "epoch: 162  batch:   47 [   470/471]  loss: 0.83718216              accuracy:  62.553%\n",
      "epoch: 163  batch:   47 [   470/471]  loss: 0.76295125              accuracy:  64.255%\n",
      "epoch: 164  batch:   47 [   470/471]  loss: 0.56630945              accuracy:  60.851%\n",
      "epoch: 165  batch:   47 [   470/471]  loss: 0.61840951              accuracy:  62.340%\n",
      "epoch: 166  batch:   47 [   470/471]  loss: 0.73960799              accuracy:  61.915%\n",
      "epoch: 167  batch:   47 [   470/471]  loss: 0.69970703              accuracy:  62.553%\n",
      "epoch: 168  batch:   47 [   470/471]  loss: 0.69022846              accuracy:  62.766%\n",
      "epoch: 169  batch:   47 [   470/471]  loss: 0.59402764              accuracy:  61.064%\n",
      "epoch: 170  batch:   47 [   470/471]  loss: 0.50190544              accuracy:  62.340%\n",
      "epoch: 171  batch:   47 [   470/471]  loss: 0.57592613              accuracy:  62.553%\n",
      "epoch: 172  batch:   47 [   470/471]  loss: 0.58210599              accuracy:  61.277%\n",
      "epoch: 173  batch:   47 [   470/471]  loss: 0.76559556              accuracy:  61.702%\n",
      "epoch: 174  batch:   47 [   470/471]  loss: 0.57001293              accuracy:  61.489%\n",
      "epoch: 175  batch:   47 [   470/471]  loss: 0.56145012              accuracy:  62.979%\n",
      "epoch: 176  batch:   47 [   470/471]  loss: 0.92169303              accuracy:  61.702%\n",
      "epoch: 177  batch:   47 [   470/471]  loss: 0.56184459              accuracy:  62.553%\n",
      "epoch: 178  batch:   47 [   470/471]  loss: 0.67776787              accuracy:  62.340%\n",
      "epoch: 179  batch:   47 [   470/471]  loss: 0.71578294              accuracy:  63.617%\n",
      "epoch: 180  batch:   47 [   470/471]  loss: 0.67047417              accuracy:  62.766%\n",
      "epoch: 181  batch:   47 [   470/471]  loss: 0.67108798              accuracy:  61.702%\n",
      "epoch: 182  batch:   47 [   470/471]  loss: 0.67712730              accuracy:  61.064%\n",
      "epoch: 183  batch:   47 [   470/471]  loss: 0.54722917              accuracy:  62.340%\n",
      "epoch: 184  batch:   47 [   470/471]  loss: 0.63082439              accuracy:  62.340%\n",
      "epoch: 185  batch:   47 [   470/471]  loss: 0.81230277              accuracy:  62.128%\n",
      "epoch: 186  batch:   47 [   470/471]  loss: 0.68275779              accuracy:  62.128%\n",
      "epoch: 187  batch:   47 [   470/471]  loss: 0.63765782              accuracy:  63.404%\n",
      "epoch: 188  batch:   47 [   470/471]  loss: 0.67289126              accuracy:  61.064%\n",
      "epoch: 189  batch:   47 [   470/471]  loss: 0.63182437              accuracy:  61.277%\n",
      "epoch: 190  batch:   47 [   470/471]  loss: 0.49856025              accuracy:  60.426%\n"
     ]
    },
    {
     "name": "stdout",
     "output_type": "stream",
     "text": [
      "epoch: 191  batch:   47 [   470/471]  loss: 0.69230789              accuracy:  61.489%\n",
      "epoch: 192  batch:   47 [   470/471]  loss: 0.57705796              accuracy:  61.064%\n",
      "epoch: 193  batch:   47 [   470/471]  loss: 0.70249665              accuracy:  61.915%\n",
      "epoch: 194  batch:   47 [   470/471]  loss: 0.68275601              accuracy:  62.553%\n",
      "epoch: 195  batch:   47 [   470/471]  loss: 0.65097940              accuracy:  61.064%\n",
      "epoch: 196  batch:   47 [   470/471]  loss: 0.59072572              accuracy:  61.702%\n",
      "epoch: 197  batch:   47 [   470/471]  loss: 0.65409589              accuracy:  61.277%\n",
      "epoch: 198  batch:   47 [   470/471]  loss: 0.63882434              accuracy:  63.191%\n",
      "epoch: 199  batch:   47 [   470/471]  loss: 0.48668855              accuracy:  61.915%\n",
      "\n",
      "Duration: 7720 seconds\n"
     ]
    }
   ],
   "source": [
    "import time\n",
    "start_time = time.time()\n",
    "\n",
    "epochs = 200\n",
    "\n",
    "#max_trn_batch = 2000\n",
    "#max_tst_batch = 2000\n",
    "\n",
    "train_losses = []\n",
    "test_losses = []\n",
    "train_correct = []\n",
    "test_correct = []\n",
    " \n",
    "\n",
    "resnet50 = resnet50.to(mps_device)\n",
    "\n",
    "for i in range(epochs):\n",
    "    trn_corr = 0\n",
    "    tst_corr = 0\n",
    "     \n",
    "    \n",
    "    # Run the training batches\n",
    "    for b, (X_train, y_train) in enumerate(train_loader):\n",
    "        #if b == max_trn_batch:\n",
    "         #   break\n",
    "        b+=1\n",
    "        #print(\"batch:\",b)\n",
    "        # Apply the model\n",
    "        X_train=X_train.to(mps_device)\n",
    "        y_train = y_train.to(mps_device)\n",
    "        \n",
    "        y_pred = resnet50(X_train)\n",
    "        loss = criterion(y_pred, y_train)\n",
    " \n",
    "        # Tally the number of correct predictions\n",
    "        predicted = torch.max(y_pred.data, 1)[1]\n",
    "        batch_corr = (predicted == y_train).sum()\n",
    "        trn_corr += batch_corr\n",
    "        \n",
    "         \n",
    "        \n",
    "        # Update parameters\n",
    "        optimizer.zero_grad()\n",
    "        loss.backward()\n",
    "        optimizer.step()\n",
    "\n",
    "        # Print interim results\n",
    "        if b%47 == 0:\n",
    "            print(f'epoch: {i:2}  batch: {b:4} [{10*b:6}/471]  loss: {loss.item():10.8f}  \\\n",
    "            accuracy: {trn_corr.item()*100/(10*b):7.3f}%')\n",
    "\n",
    "    train_losses.append(loss)\n",
    "    train_correct.append(trn_corr)\n",
    "    \n",
    "\n",
    "    # Run the testing batches\n",
    "    with torch.no_grad():\n",
    "        for b, (X_test, y_test) in enumerate(test_loader):\n",
    "            #if b == max_tst_batch:\n",
    "             #   break\n",
    "            X_test=X_test.to(mps_device)\n",
    "            y_test = y_test.to(mps_device)\n",
    "\n",
    "            # Apply the model\n",
    "            y_val = resnet50(X_test)\n",
    "\n",
    "            # Tally the number of correct predictions\n",
    "            predicted = torch.max(y_val.data, 1)[1] \n",
    "            tst_corr += (predicted == y_test).sum()\n",
    "\n",
    "    loss = criterion(y_val, y_test)\n",
    "    test_losses.append(loss)\n",
    "    test_correct.append(tst_corr)\n",
    "\n",
    "print(f'\\nDuration: {time.time() - start_time:.0f} seconds') # print the time elapsed"
   ]
  },
  {
   "cell_type": "code",
   "execution_count": 9,
   "id": "294c0515",
   "metadata": {},
   "outputs": [],
   "source": [
    "def _postprocess(train_losses,test_losses,train_correct,test_correct):\n",
    "    \n",
    "    \n",
    "    \n",
    "    l = len(train_losses) \n",
    "    train_loss_cpu = []\n",
    "    for i in range(0,l-1):\n",
    "    \n",
    "        train_loss_cpu.append(train_losses[i].item())\n",
    "    \n",
    "    l = len(test_losses) \n",
    "    test_loss_cpu = []\n",
    "    for i in range(0,l-1):\n",
    "    \n",
    "        test_loss_cpu.append(test_losses[i].item())\n",
    "        \n",
    "    l = len(train_correct) \n",
    "    train_correct_cpu = []\n",
    "    for i in range(0,l-1):\n",
    "    \n",
    "        train_correct_cpu.append(train_correct[i].item())\n",
    "        \n",
    "    \n",
    "    l = len(test_correct) \n",
    "    test_c = 0\n",
    "    for i in range(0,l-1):\n",
    "    \n",
    "        test_c = test_c + test_correct[i].item()\n",
    "\n",
    "    print(f'Test accuracy: {(test_c*100)/(40*l):.3f}%')\n",
    "    \n",
    "    \n",
    "    l = len(test_correct) \n",
    "    test_correct_cpu = []\n",
    "    for i in range(0,l-1):\n",
    "    \n",
    "        test_correct_cpu.append(test_correct[i].item())\n",
    "        \n",
    "    return train_loss_cpu ,test_loss_cpu , train_correct_cpu ,test_correct_cpu\n",
    "    \n",
    "    \n",
    "    \n",
    "    \n",
    "    \n",
    "    \n",
    "    "
   ]
  },
  {
   "cell_type": "code",
   "execution_count": 10,
   "id": "659a0b49",
   "metadata": {},
   "outputs": [
    {
     "name": "stdout",
     "output_type": "stream",
     "text": [
      "Test accuracy: 67.675%\n"
     ]
    }
   ],
   "source": [
    "train_loss_cpu,test_loss_cpu,train_correct_cpu,test_correct_cpu = _postprocess(train_losses,test_losses,train_correct,test_correct) "
   ]
  },
  {
   "cell_type": "code",
   "execution_count": 11,
   "id": "bde863b4",
   "metadata": {},
   "outputs": [
    {
     "data": {
      "image/png": "[encoded data removed]",
      "text/plain": [
       "<Figure size 640x480 with 1 Axes>"
      ]
     },
     "metadata": {},
     "output_type": "display_data"
    }
   ],
   "source": [
    "    plt.plot(train_loss_cpu, label='training loss')\n",
    "    plt.plot(test_loss_cpu, label='validation loss')\n",
    "    plt.title('Loss at the end of each epoch')\n",
    "    plt.legend();"
   ]
  },
  {
   "cell_type": "code",
   "execution_count": 12,
   "id": "b3872454",
   "metadata": {},
   "outputs": [
    {
     "data": {
      "image/png": "[encoded data removed]",
      "text/plain": [
       "<Figure size 640x480 with 1 Axes>"
      ]
     },
     "metadata": {},
     "output_type": "display_data"
    }
   ],
   "source": [
    "    plt.plot([t/471 for t in train_correct_cpu], label='training accuracy')\n",
    "    plt.plot([t/40 for t in test_correct_cpu], label='validation accuracy')\n",
    "    plt.title('Accuracy at the end of each epoch')\n",
    "    plt.legend();\n",
    "    "
   ]
  },
  {
   "cell_type": "code",
   "execution_count": 13,
   "id": "4c12bbcb",
   "metadata": {},
   "outputs": [],
   "source": [
    "torch.save(resnet50.state_dict(), '/Users/gmkhan/Documents/06 DCS/Sem3/Computer Vision/Subject Project/BrightField50_o.pth')"
   ]
  },
  {
   "cell_type": "markdown",
   "id": "6acbe337",
   "metadata": {},
   "source": [
    "## Run Resnet18 with higher epocs"
   ]
  },
  {
   "cell_type": "code",
   "execution_count": null,
   "id": "4a00d9e0",
   "metadata": {},
   "outputs": [],
   "source": [
    "resnet18_3 = models.resnet18(pretrained=True)\n",
    "for param in resnet18_3.parameters():\n",
    "    param.requires_grad = False\n",
    "    \n",
    "torch.manual_seed(42)\n",
    "resnet18_3.fc = nn.Sequential(nn.Linear(512, 256),\n",
    "                                 nn.ReLU(),\n",
    "                                 nn.Dropout(0.4),\n",
    "                                 nn.Linear(256, 2),\n",
    "                                 nn.LogSoftmax(dim=1))"
   ]
  },
  {
   "cell_type": "code",
   "execution_count": null,
   "id": "7d4cde1b",
   "metadata": {},
   "outputs": [],
   "source": [
    "criterion = nn.CrossEntropyLoss()\n",
    "optimizer = torch.optim.Adam(resnet18_3.fc.parameters(), lr=0.001)"
   ]
  },
  {
   "cell_type": "code",
   "execution_count": null,
   "id": "7b338996",
   "metadata": {},
   "outputs": [],
   "source": [
    "if not torch.backends.mps.is_available():\n",
    "    if not torch.backends.mps.is_built():\n",
    "        print(\"MPS not available because the current PyTorch install was not \"\n",
    "              \"built with MPS enabled.\")\n",
    "    else:\n",
    "        print(\"MPS not available because the current MacOS version is not 12.3+ \"\n",
    "              \"and/or you do not have an MPS-enabled device on this machine.\")\n",
    "\n",
    "else:\n",
    "    mps_device = torch.device(\"mps\")"
   ]
  },
  {
   "cell_type": "code",
   "execution_count": null,
   "id": "4ba28e9e",
   "metadata": {},
   "outputs": [],
   "source": [
    "import time\n",
    "start_time = time.time()\n",
    "\n",
    "epochs = 100\n",
    "\n",
    "#max_trn_batch = 2000\n",
    "#max_tst_batch = 2000\n",
    "\n",
    "train_losses = []\n",
    "test_losses = []\n",
    "train_correct = []\n",
    "test_correct = []\n",
    "\n",
    "\n",
    "resnet18_3 = resnet18_3.to(mps_device)\n",
    "\n",
    "for i in range(epochs):\n",
    "    trn_corr = 0\n",
    "    tst_corr = 0\n",
    "    \n",
    "    \n",
    "    # Run the training batches\n",
    "    for b, (X_train, y_train) in enumerate(train_loader):\n",
    "        #if b == max_trn_batch:\n",
    "         #   break\n",
    "        b+=1\n",
    "        #print(\"batch:\",b)\n",
    "        # Apply the model\n",
    "        X_train=X_train.to(mps_device)\n",
    "        y_train = y_train.to(mps_device)\n",
    "        \n",
    "        y_pred = resnet18_3(X_train)\n",
    "        loss = criterion(y_pred, y_train)\n",
    " \n",
    "        # Tally the number of correct predictions\n",
    "        predicted = torch.max(y_pred.data, 1)[1]\n",
    "        batch_corr = (predicted == y_train).sum()\n",
    "        trn_corr += batch_corr\n",
    "        \n",
    "        \n",
    "        # Update parameters\n",
    "        optimizer.zero_grad()\n",
    "        loss.backward()\n",
    "        optimizer.step()\n",
    "\n",
    "        # Print interim results\n",
    "        if b%47 == 0:\n",
    "            print(f'epoch: {i:2}  batch: {b:4} [{10*b:6}/471]  loss: {loss.item():10.8f}  \\\n",
    "            accuracy: {trn_corr.item()*100/(10*b):7.3f}%')\n",
    "\n",
    "    train_losses.append(loss)\n",
    "    train_correct.append(trn_corr)\n",
    "    \n",
    "\n",
    "    # Run the testing batches\n",
    "    with torch.no_grad():\n",
    "        for b, (X_test, y_test) in enumerate(test_loader):\n",
    "            #if b == max_tst_batch:\n",
    "             #   break\n",
    "            X_test=X_test.to(mps_device)\n",
    "            y_test = y_test.to(mps_device)\n",
    "\n",
    "            # Apply the model\n",
    "            y_val = resnet18_3(X_test)\n",
    "\n",
    "            # Tally the number of correct predictions\n",
    "            predicted = torch.max(y_val.data, 1)[1] \n",
    "            tst_corr += (predicted == y_test).sum()\n",
    "\n",
    "    loss = criterion(y_val, y_test)\n",
    "    test_losses.append(loss)\n",
    "    test_correct.append(tst_corr)\n",
    "\n",
    "print(f'\\nDuration: {time.time() - start_time:.0f} seconds') # print the time elapsed"
   ]
  },
  {
   "cell_type": "code",
   "execution_count": null,
   "id": "2de83bf0",
   "metadata": {},
   "outputs": [],
   "source": [
    "train_loss_cpu,test_loss_cpu,train_correct_cpu,test_correct_cpu = _postprocess(train_losses,test_losses,train_correct,test_correct)"
   ]
  },
  {
   "cell_type": "code",
   "execution_count": null,
   "id": "06e75ceb",
   "metadata": {},
   "outputs": [],
   "source": [
    "    plt.plot(train_loss_cpu, label='training loss')\n",
    "    plt.plot(test_loss_cpu, label='validation loss')\n",
    "    plt.title('Loss at the end of each epoch')\n",
    "    plt.legend();"
   ]
  },
  {
   "cell_type": "code",
   "execution_count": null,
   "id": "843181a4",
   "metadata": {},
   "outputs": [],
   "source": [
    "    plt.plot([t/470 for t in train_correct_cpu], label='training accuracy')\n",
    "    plt.plot([t/40 for t in test_correct_cpu], label='validation accuracy')\n",
    "    plt.title('Accuracy at the end of each epoch')\n",
    "    plt.legend();"
   ]
  },
  {
   "cell_type": "code",
   "execution_count": null,
   "id": "72dbe47a",
   "metadata": {},
   "outputs": [],
   "source": [
    "torch.save(resnet18_3.state_dict(), '/Users/gmkhan/Documents/06 DCS/Sem3/Computer Vision/Subject Project/BrightField18_3.pth')"
   ]
  },
  {
   "cell_type": "markdown",
   "id": "56352c91",
   "metadata": {},
   "source": [
    "### use Resnet18 with 224 X 224 "
   ]
  },
  {
   "cell_type": "code",
   "execution_count": null,
   "id": "e2cecc11",
   "metadata": {},
   "outputs": [],
   "source": [
    "train_transform = transforms.Compose([\n",
    "    transforms.RandomRotation(10),\n",
    "    transforms.Resize((224,224)),\n",
    "    transforms.ToTensor(),\n",
    "    transforms.Normalize([0.485, 0.456, 0.406],[0.229, 0.224, 0.225])\n",
    "])"
   ]
  },
  {
   "cell_type": "code",
   "execution_count": null,
   "id": "06a7196d",
   "metadata": {},
   "outputs": [],
   "source": [
    "test_transform = transforms.Compose([\n",
    "    transforms.Resize((224,224)),\n",
    "    transforms.ToTensor(),\n",
    "    transforms.Normalize([0.485, 0.456, 0.406],[0.229, 0.224, 0.225])\n",
    "])"
   ]
  },
  {
   "cell_type": "code",
   "execution_count": null,
   "id": "c3e14dc4",
   "metadata": {},
   "outputs": [],
   "source": [
    "#mps_device = torch.device(\"mps\")\n",
    "root = '/Users/gmkhan/Documents/06 DCS/Sem3/Computer Vision/Subject Project/CVProject1'\n",
    "train_data = datasets.ImageFolder(os.path.join(root,'Train'),transform=train_transform)\n",
    "test_data = datasets.ImageFolder(os.path.join(root,'Test'),transform=test_transform)\n",
    "\n",
    "torch.manual_seed(42)\n",
    "batch_size = 10\n",
    "train_loader = torch.utils.data.DataLoader(train_data, batch_size=batch_size, shuffle=True, num_workers=2,pin_memory=True)\n",
    "test_loader = torch.utils.data.DataLoader(test_data, batch_size=batch_size, shuffle=True, num_workers=2,pin_memory=True)\n",
    "\n",
    "class_names = train_data.classes\n",
    "\n",
    "print(class_names)\n",
    "print(f'Training images available: {len(train_data)}')\n",
    "print(f'Testing images available:  {len(test_data)}')"
   ]
  },
  {
   "cell_type": "code",
   "execution_count": null,
   "id": "34f98549",
   "metadata": {},
   "outputs": [],
   "source": [
    "resnet18_4 = models.resnet18(pretrained=True)\n",
    "for param in resnet18_4.parameters():\n",
    "    param.requires_grad = False\n",
    "    \n",
    "torch.manual_seed(42)\n",
    "resnet18_4.fc = nn.Sequential(nn.Linear(512, 256),\n",
    "                                 nn.ReLU(),\n",
    "                                 nn.Dropout(0.4),\n",
    "                                 nn.Linear(256, 2),\n",
    "                                 nn.LogSoftmax(dim=1))"
   ]
  },
  {
   "cell_type": "code",
   "execution_count": null,
   "id": "cc4da3d3",
   "metadata": {},
   "outputs": [],
   "source": [
    "criterion = nn.CrossEntropyLoss()\n",
    "optimizer = torch.optim.Adam(resnet18_4.fc.parameters(), lr=0.001)"
   ]
  },
  {
   "cell_type": "code",
   "execution_count": null,
   "id": "a936b20f",
   "metadata": {},
   "outputs": [],
   "source": [
    "if not torch.backends.mps.is_available():\n",
    "    if not torch.backends.mps.is_built():\n",
    "        print(\"MPS not available because the current PyTorch install was not \"\n",
    "              \"built with MPS enabled.\")\n",
    "    else:\n",
    "        print(\"MPS not available because the current MacOS version is not 12.3+ \"\n",
    "              \"and/or you do not have an MPS-enabled device on this machine.\")\n",
    "\n",
    "else:\n",
    "    mps_device = torch.device(\"mps\")"
   ]
  },
  {
   "cell_type": "code",
   "execution_count": null,
   "id": "59c756ab",
   "metadata": {},
   "outputs": [],
   "source": [
    "import time\n",
    "start_time = time.time()\n",
    "\n",
    "epochs = 100\n",
    "\n",
    "#max_trn_batch = 2000\n",
    "#max_tst_batch = 2000\n",
    "\n",
    "train_losses = []\n",
    "test_losses = []\n",
    "train_correct = []\n",
    "test_correct = []\n",
    "\n",
    "\n",
    "resnet18_4 = resnet18_4.to(mps_device)\n",
    "\n",
    "for i in range(epochs):\n",
    "    trn_corr = 0\n",
    "    tst_corr = 0\n",
    "    \n",
    "    \n",
    "    # Run the training batches\n",
    "    for b, (X_train, y_train) in enumerate(train_loader):\n",
    "        #if b == max_trn_batch:\n",
    "         #   break\n",
    "        b+=1\n",
    "        #print(\"batch:\",b)\n",
    "        # Apply the model\n",
    "        X_train=X_train.to(mps_device)\n",
    "        y_train = y_train.to(mps_device)\n",
    "        \n",
    "        y_pred = resnet18_4(X_train)\n",
    "        loss = criterion(y_pred, y_train)\n",
    " \n",
    "        # Tally the number of correct predictions\n",
    "        predicted = torch.max(y_pred.data, 1)[1]\n",
    "        batch_corr = (predicted == y_train).sum()\n",
    "        trn_corr += batch_corr\n",
    "        \n",
    "        \n",
    "        # Update parameters\n",
    "        optimizer.zero_grad()\n",
    "        loss.backward()\n",
    "        optimizer.step()\n",
    "\n",
    "        # Print interim results\n",
    "        if b%47 == 0:\n",
    "            print(f'epoch: {i:2}  batch: {b:4} [{10*b:6}/471]  loss: {loss.item():10.8f}  \\\n",
    "            accuracy: {trn_corr.item()*100/(10*b):7.3f}%')\n",
    "\n",
    "    train_losses.append(loss)\n",
    "    train_correct.append(trn_corr)\n",
    "    \n",
    "\n",
    "    # Run the testing batches\n",
    "    with torch.no_grad():\n",
    "        for b, (X_test, y_test) in enumerate(test_loader):\n",
    "            #if b == max_tst_batch:\n",
    "             #   break\n",
    "            X_test=X_test.to(mps_device)\n",
    "            y_test = y_test.to(mps_device)\n",
    "\n",
    "            # Apply the model\n",
    "            y_val = resnet18_4(X_test)\n",
    "\n",
    "            # Tally the number of correct predictions\n",
    "            predicted = torch.max(y_val.data, 1)[1] \n",
    "            tst_corr += (predicted == y_test).sum()\n",
    "\n",
    "    loss = criterion(y_val, y_test)\n",
    "    test_losses.append(loss)\n",
    "    test_correct.append(tst_corr)\n",
    "\n",
    "print(f'\\nDuration: {time.time() - start_time:.0f} seconds') # print the time elapsed"
   ]
  },
  {
   "cell_type": "code",
   "execution_count": null,
   "id": "53ad650c",
   "metadata": {},
   "outputs": [],
   "source": [
    "train_loss_cpu,test_loss_cpu,train_correct_cpu,test_correct_cpu = _postprocess(train_losses,test_losses,train_correct,test_correct)"
   ]
  },
  {
   "cell_type": "code",
   "execution_count": null,
   "id": "0b929435",
   "metadata": {},
   "outputs": [],
   "source": [
    "    plt.plot(train_loss_cpu, label='training loss')\n",
    "    plt.plot(test_loss_cpu, label='validation loss')\n",
    "    plt.title('Loss at the end of each epoch')\n",
    "    plt.legend();"
   ]
  },
  {
   "cell_type": "code",
   "execution_count": null,
   "id": "dbd09a53",
   "metadata": {},
   "outputs": [],
   "source": [
    "    plt.plot([t/470 for t in train_correct_cpu], label='training accuracy')\n",
    "    plt.plot([t/40 for t in test_correct_cpu], label='validation accuracy')\n",
    "    plt.title('Accuracy at the end of each epoch')\n",
    "    plt.legend();"
   ]
  },
  {
   "cell_type": "code",
   "execution_count": null,
   "id": "a9f08f55",
   "metadata": {},
   "outputs": [],
   "source": [
    "torch.save(resnet18_4.state_dict(), '/Users/gmkhan/Documents/06 DCS/Sem3/Computer Vision/Subject Project/BrightField18_4.pth')"
   ]
  },
  {
   "cell_type": "markdown",
   "id": "79d91976",
   "metadata": {},
   "source": [
    "# Testing of the Model "
   ]
  },
  {
   "cell_type": "code",
   "execution_count": null,
   "id": "36e6d586",
   "metadata": {},
   "outputs": [],
   "source": [
    "test_transform = transforms.Compose([\n",
    "    transforms.Resize((224,224)),\n",
    "    transforms.ToTensor(),\n",
    "    transforms.Normalize([0.485, 0.456, 0.406],[0.229, 0.224, 0.225])\n",
    "])"
   ]
  },
  {
   "cell_type": "code",
   "execution_count": null,
   "id": "88e03124",
   "metadata": {},
   "outputs": [],
   "source": [
    "train_transform = transforms.Compose([\n",
    "    transforms.Resize((224,224)),\n",
    "    transforms.ToTensor(),\n",
    "    transforms.Normalize([0.485, 0.456, 0.406],[0.229, 0.224, 0.225])\n",
    "])"
   ]
  },
  {
   "cell_type": "code",
   "execution_count": null,
   "id": "2c97dfc7",
   "metadata": {},
   "outputs": [],
   "source": [
    "root = '/Users/gmkhan/Documents/06 DCS/Sem3/Computer Vision/Subject Project/CVProject1'\n",
    "train_data = datasets.ImageFolder(os.path.join(root,'Train'),transform=train_transform)\n",
    "test_data = datasets.ImageFolder(os.path.join(root,'Test'),transform=test_transform)\n",
    "\n",
    "torch.manual_seed(42)\n",
    "batch_size = 1\n",
    "train_loader = torch.utils.data.DataLoader(train_data, batch_size=batch_size, shuffle=True, num_workers=2,pin_memory=True)\n",
    "test_loader = torch.utils.data.DataLoader(test_data, batch_size=batch_size, shuffle=True, num_workers=2,pin_memory=True)\n",
    "\n",
    "class_names = test_data.classes\n",
    "\n",
    "print(class_names)\n",
    "print(f'Training images available: {len(train_data)}')\n",
    "print(f'Testing images available:  {len(test_data)}')"
   ]
  },
  {
   "cell_type": "code",
   "execution_count": null,
   "id": "4f35e41c",
   "metadata": {},
   "outputs": [],
   "source": [
    "PATH = '/Users/gmkhan/Documents/06 DCS/Sem3/Computer Vision/Subject Project/BrightField34_1.pth'\n",
    "#model = resnet18(*args, **kwargs)\n",
    "model = models.resnet34()\n",
    "#torch.manual_seed(42)\n",
    "#model.fc = nn.Sequential(nn.Linear(2048, 512),\n",
    "#                                 nn.ReLU(),\n",
    "#                                 nn.Dropout(0.4),\n",
    "#                                 nn.Linear(512, 2),\n",
    "#                                 nn.LogSoftmax(dim=1))\n",
    "model.fc = nn.Sequential(nn.Linear(512, 256),\n",
    "                                 nn.ReLU(),\n",
    "                                 nn.Dropout(0.4),\n",
    "                                 nn.Linear(256, 2),\n",
    "                                 nn.LogSoftmax(dim=1))\n",
    "model.load_state_dict(torch.load(PATH))\n",
    "model.eval()"
   ]
  },
  {
   "cell_type": "code",
   "execution_count": null,
   "id": "9d27de19",
   "metadata": {},
   "outputs": [],
   "source": [
    "def _testrun(test_loader):\n",
    "    with torch.no_grad():\n",
    "        t_p = 0\n",
    "        t_n = 0 \n",
    "        f_p = 0 \n",
    "        f_n = 0\n",
    "        for b, (X_test, y_test) in enumerate(test_loader):\n",
    "            #if b == max_tst_batch:\n",
    "             #   break\n",
    "            #X_test=X_test.to(mps_device)\n",
    "            #y_test = y_test.to(mps_device)\n",
    "\n",
    "            # Apply the model\n",
    "            y_val = model(X_test)\n",
    "\n",
    "            # Tally the number of correct predictions\n",
    "            predicted = torch.max(y_val.data, 1)[1] \n",
    "            #print(\"Actual:\",y_test.item() )\n",
    "            #print(\"Predicted:\",predicted.item())\n",
    "            #tst_corr += (predicted == y_test).sum()\n",
    "            if predicted == y_test:\n",
    "                if predicted == 1:\n",
    "                    t_p = t_p + 1\n",
    "                else:\n",
    "                    t_n = t_n + 1\n",
    "            else:\n",
    "                if predicted == 1:\n",
    "                    f_p = f_p + 1\n",
    "                else:\n",
    "                    f_n = f_n + 1\n",
    "                    \n",
    "    precision = t_p / (t_p + f_p )\n",
    "    Recall = t_p / (t_p + f_n )\n",
    "    f1 = (2 * precision * Recall ) / (precision + Recall)\n",
    "    specity = t_n / (t_n + f_p)\n",
    "                    \n",
    "    print(\"True Positive:=\",t_p)\n",
    "    print(\"True Negative:=\",t_n)\n",
    "    print(\"False Positive:=\",f_p)\n",
    "    print(\"False Negative:=\",f_n)\n",
    "    print(\"Precision:=\",precision)\n",
    "    print(\"Recall:=\",Recall)\n",
    "    print(\"F1 Score :=\",f1)\n",
    "    print(\"Specity:=\",specity)\n",
    "\n",
    "\n",
    "\n",
    "     \n",
    "    #test_losses.append(loss)\n",
    "    #test_correct.append(tst_corr)"
   ]
  },
  {
   "cell_type": "code",
   "execution_count": null,
   "id": "d09ce26c",
   "metadata": {},
   "outputs": [],
   "source": [
    "_testrun(test_loader)"
   ]
  },
  {
   "cell_type": "code",
   "execution_count": null,
   "id": "2f011901",
   "metadata": {},
   "outputs": [],
   "source": [
    "_testrun(train_loader)"
   ]
  },
  {
   "cell_type": "code",
   "execution_count": null,
   "id": "7946d177",
   "metadata": {},
   "outputs": [],
   "source": []
  }
 ],
 "metadata": {
  "kernelspec": {
   "display_name": "Python 3 (ipykernel)",
   "language": "python",
   "name": "python3"
  },
  "language_info": {
   "codemirror_mode": {
    "name": "ipython",
    "version": 3
   },
   "file_extension": ".py",
   "mimetype": "text/x-python",
   "name": "python",
   "nbconvert_exporter": "python",
   "pygments_lexer": "ipython3",
   "version": "3.9.13"
  }
 },
 "nbformat": 4,
 "nbformat_minor": 5
}
